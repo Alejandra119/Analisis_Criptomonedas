{
 "cells": [
  {
   "cell_type": "markdown",
   "metadata": {},
   "source": [
    "# Desarrollo del Proyecto 2 - Cryptocurrency Market Data Analytics \n",
    "## Extract, Transform and Load (ETL) \n",
    "Hecho por: Alejandra Salas"
   ]
  },
  {
   "cell_type": "markdown",
   "metadata": {},
   "source": [
    "Coingecko es una plataforma en línea que proprociona información sobre criptomonedas y activos digitales, siendo una fuente popular para obtener datos actualizados sobre los precios, capitalización del mercado, volumen de las operaciones, ranking, tedencias y demás información relevante. "
   ]
  },
  {
   "cell_type": "markdown",
   "metadata": {},
   "source": [
    "1. Instalamos pycoingecko para conectarnos a la API de Coingecko.\n",
    "   \n",
    "    https://www.coingecko.com/en/api/documentation"
   ]
  },
  {
   "cell_type": "code",
   "execution_count": 1,
   "metadata": {},
   "outputs": [],
   "source": [
    "# pip install -U pycoingecko "
   ]
  },
  {
   "cell_type": "markdown",
   "metadata": {},
   "source": [
    "2. Importamos las librerías a utilizar"
   ]
  },
  {
   "cell_type": "code",
   "execution_count": 2,
   "metadata": {},
   "outputs": [],
   "source": [
    "from pycoingecko import CoinGeckoAPI # Servirá para extraer la información de la API de Coingecko.\n",
    "import pandas as pd # Servirá para convertir en formato dataframe la información extraida.\n",
    "from datetime import datetime # Servirá para convertir los datos en formato datetime con fecha y tiempo."
   ]
  },
  {
   "cell_type": "markdown",
   "metadata": {},
   "source": [
    "3. Llamamos a la API de Coingecko con el comando CoinGeckoAPI, anteriormente importado"
   ]
  },
  {
   "cell_type": "code",
   "execution_count": 3,
   "metadata": {},
   "outputs": [],
   "source": [
    "cg=CoinGeckoAPI() # Nombramos el comando de la API de Coingecko con \"cg\" para poder usar sus funciones."
   ]
  },
  {
   "cell_type": "markdown",
   "metadata": {},
   "source": [
    "4. Extraemos de la función \"get_coins_markets\" con las criptomonedas con valores en dólares. \n",
    "\n",
    "   Optamos dólares por ser una moneda estable y transable internacionalmente."
   ]
  },
  {
   "cell_type": "code",
   "execution_count": 4,
   "metadata": {},
   "outputs": [
    {
     "data": {
      "text/html": [
       "<div>\n",
       "<style scoped>\n",
       "    .dataframe tbody tr th:only-of-type {\n",
       "        vertical-align: middle;\n",
       "    }\n",
       "\n",
       "    .dataframe tbody tr th {\n",
       "        vertical-align: top;\n",
       "    }\n",
       "\n",
       "    .dataframe thead th {\n",
       "        text-align: right;\n",
       "    }\n",
       "</style>\n",
       "<table border=\"1\" class=\"dataframe\">\n",
       "  <thead>\n",
       "    <tr style=\"text-align: right;\">\n",
       "      <th></th>\n",
       "      <th>id</th>\n",
       "      <th>symbol</th>\n",
       "      <th>name</th>\n",
       "      <th>image</th>\n",
       "      <th>current_price</th>\n",
       "      <th>market_cap</th>\n",
       "      <th>market_cap_rank</th>\n",
       "      <th>fully_diluted_valuation</th>\n",
       "      <th>total_volume</th>\n",
       "      <th>high_24h</th>\n",
       "      <th>...</th>\n",
       "      <th>total_supply</th>\n",
       "      <th>max_supply</th>\n",
       "      <th>ath</th>\n",
       "      <th>ath_change_percentage</th>\n",
       "      <th>ath_date</th>\n",
       "      <th>atl</th>\n",
       "      <th>atl_change_percentage</th>\n",
       "      <th>atl_date</th>\n",
       "      <th>roi</th>\n",
       "      <th>last_updated</th>\n",
       "    </tr>\n",
       "  </thead>\n",
       "  <tbody>\n",
       "    <tr>\n",
       "      <th>0</th>\n",
       "      <td>bitcoin</td>\n",
       "      <td>btc</td>\n",
       "      <td>Bitcoin</td>\n",
       "      <td>https://assets.coingecko.com/coins/images/1/la...</td>\n",
       "      <td>26100.000000</td>\n",
       "      <td>507822158393</td>\n",
       "      <td>1</td>\n",
       "      <td>5.478858e+11</td>\n",
       "      <td>7.738907e+09</td>\n",
       "      <td>26206.000000</td>\n",
       "      <td>...</td>\n",
       "      <td>2.100000e+07</td>\n",
       "      <td>2.100000e+07</td>\n",
       "      <td>69045.000000</td>\n",
       "      <td>-62.19548</td>\n",
       "      <td>2021-11-10T14:24:11.849Z</td>\n",
       "      <td>6.781000e+01</td>\n",
       "      <td>3.839348e+04</td>\n",
       "      <td>2013-07-06T00:00:00.000Z</td>\n",
       "      <td>None</td>\n",
       "      <td>2023-08-22T01:13:23.367Z</td>\n",
       "    </tr>\n",
       "    <tr>\n",
       "      <th>1</th>\n",
       "      <td>ethereum</td>\n",
       "      <td>eth</td>\n",
       "      <td>Ethereum</td>\n",
       "      <td>https://assets.coingecko.com/coins/images/279/...</td>\n",
       "      <td>1667.120000</td>\n",
       "      <td>200377175767</td>\n",
       "      <td>2</td>\n",
       "      <td>2.003772e+11</td>\n",
       "      <td>6.998750e+09</td>\n",
       "      <td>1684.790000</td>\n",
       "      <td>...</td>\n",
       "      <td>1.202152e+08</td>\n",
       "      <td>NaN</td>\n",
       "      <td>4878.260000</td>\n",
       "      <td>-65.82176</td>\n",
       "      <td>2021-11-10T14:24:19.604Z</td>\n",
       "      <td>4.329790e-01</td>\n",
       "      <td>3.849774e+05</td>\n",
       "      <td>2015-10-20T00:00:00.000Z</td>\n",
       "      <td>{'times': 84.40287511547022, 'currency': 'btc'...</td>\n",
       "      <td>2023-08-22T01:13:22.990Z</td>\n",
       "    </tr>\n",
       "    <tr>\n",
       "      <th>2</th>\n",
       "      <td>tether</td>\n",
       "      <td>usdt</td>\n",
       "      <td>Tether</td>\n",
       "      <td>https://assets.coingecko.com/coins/images/325/...</td>\n",
       "      <td>1.000000</td>\n",
       "      <td>82874101379</td>\n",
       "      <td>3</td>\n",
       "      <td>8.287410e+10</td>\n",
       "      <td>1.673510e+10</td>\n",
       "      <td>1.003000</td>\n",
       "      <td>...</td>\n",
       "      <td>8.284648e+10</td>\n",
       "      <td>NaN</td>\n",
       "      <td>1.320000</td>\n",
       "      <td>-24.42259</td>\n",
       "      <td>2018-07-24T00:00:00.000Z</td>\n",
       "      <td>5.725210e-01</td>\n",
       "      <td>7.465930e+01</td>\n",
       "      <td>2015-03-02T00:00:00.000Z</td>\n",
       "      <td>None</td>\n",
       "      <td>2023-08-22T01:10:00.458Z</td>\n",
       "    </tr>\n",
       "    <tr>\n",
       "      <th>3</th>\n",
       "      <td>binancecoin</td>\n",
       "      <td>bnb</td>\n",
       "      <td>BNB</td>\n",
       "      <td>https://assets.coingecko.com/coins/images/825/...</td>\n",
       "      <td>210.390000</td>\n",
       "      <td>32370809902</td>\n",
       "      <td>4</td>\n",
       "      <td>4.207932e+10</td>\n",
       "      <td>6.545186e+08</td>\n",
       "      <td>216.790000</td>\n",
       "      <td>...</td>\n",
       "      <td>1.538562e+08</td>\n",
       "      <td>2.000000e+08</td>\n",
       "      <td>686.310000</td>\n",
       "      <td>-69.34152</td>\n",
       "      <td>2021-05-10T07:24:17.097Z</td>\n",
       "      <td>3.981770e-02</td>\n",
       "      <td>5.283364e+05</td>\n",
       "      <td>2017-10-19T00:00:00.000Z</td>\n",
       "      <td>None</td>\n",
       "      <td>2023-08-22T01:13:25.481Z</td>\n",
       "    </tr>\n",
       "    <tr>\n",
       "      <th>4</th>\n",
       "      <td>ripple</td>\n",
       "      <td>xrp</td>\n",
       "      <td>XRP</td>\n",
       "      <td>https://assets.coingecko.com/coins/images/44/l...</td>\n",
       "      <td>0.520582</td>\n",
       "      <td>27519317537</td>\n",
       "      <td>5</td>\n",
       "      <td>5.207862e+10</td>\n",
       "      <td>1.343759e+09</td>\n",
       "      <td>0.537880</td>\n",
       "      <td>...</td>\n",
       "      <td>9.998850e+10</td>\n",
       "      <td>1.000000e+11</td>\n",
       "      <td>3.400000</td>\n",
       "      <td>-84.67845</td>\n",
       "      <td>2018-01-07T00:00:00.000Z</td>\n",
       "      <td>2.686210e-03</td>\n",
       "      <td>1.928403e+04</td>\n",
       "      <td>2014-05-22T00:00:00.000Z</td>\n",
       "      <td>None</td>\n",
       "      <td>2023-08-22T01:13:25.234Z</td>\n",
       "    </tr>\n",
       "    <tr>\n",
       "      <th>5</th>\n",
       "      <td>usd-coin</td>\n",
       "      <td>usdc</td>\n",
       "      <td>USD Coin</td>\n",
       "      <td>https://assets.coingecko.com/coins/images/6319...</td>\n",
       "      <td>0.999990</td>\n",
       "      <td>25985073163</td>\n",
       "      <td>6</td>\n",
       "      <td>2.598807e+10</td>\n",
       "      <td>4.530639e+09</td>\n",
       "      <td>1.004000</td>\n",
       "      <td>...</td>\n",
       "      <td>2.598912e+10</td>\n",
       "      <td>NaN</td>\n",
       "      <td>1.170000</td>\n",
       "      <td>-14.73826</td>\n",
       "      <td>2019-05-08T00:40:28.300Z</td>\n",
       "      <td>8.776470e-01</td>\n",
       "      <td>1.392622e+01</td>\n",
       "      <td>2023-03-11T08:02:13.981Z</td>\n",
       "      <td>None</td>\n",
       "      <td>2023-08-22T01:13:24.616Z</td>\n",
       "    </tr>\n",
       "    <tr>\n",
       "      <th>6</th>\n",
       "      <td>staked-ether</td>\n",
       "      <td>steth</td>\n",
       "      <td>Lido Staked Ether</td>\n",
       "      <td>https://assets.coingecko.com/coins/images/1344...</td>\n",
       "      <td>1668.350000</td>\n",
       "      <td>13778905006</td>\n",
       "      <td>7</td>\n",
       "      <td>1.377891e+10</td>\n",
       "      <td>9.189830e+06</td>\n",
       "      <td>1685.070000</td>\n",
       "      <td>...</td>\n",
       "      <td>8.261388e+06</td>\n",
       "      <td>8.261388e+06</td>\n",
       "      <td>4829.570000</td>\n",
       "      <td>-65.46661</td>\n",
       "      <td>2021-11-10T14:40:47.256Z</td>\n",
       "      <td>4.829000e+02</td>\n",
       "      <td>2.453775e+02</td>\n",
       "      <td>2020-12-22T04:08:21.854Z</td>\n",
       "      <td>None</td>\n",
       "      <td>2023-08-22T01:13:21.951Z</td>\n",
       "    </tr>\n",
       "    <tr>\n",
       "      <th>7</th>\n",
       "      <td>cardano</td>\n",
       "      <td>ada</td>\n",
       "      <td>Cardano</td>\n",
       "      <td>https://assets.coingecko.com/coins/images/975/...</td>\n",
       "      <td>0.262707</td>\n",
       "      <td>9209986014</td>\n",
       "      <td>8</td>\n",
       "      <td>1.182620e+10</td>\n",
       "      <td>1.731562e+08</td>\n",
       "      <td>0.272207</td>\n",
       "      <td>...</td>\n",
       "      <td>4.500000e+10</td>\n",
       "      <td>4.500000e+10</td>\n",
       "      <td>3.090000</td>\n",
       "      <td>-91.48138</td>\n",
       "      <td>2021-09-02T06:00:10.474Z</td>\n",
       "      <td>1.925275e-02</td>\n",
       "      <td>1.265842e+03</td>\n",
       "      <td>2020-03-13T02:22:55.044Z</td>\n",
       "      <td>None</td>\n",
       "      <td>2023-08-22T01:13:25.068Z</td>\n",
       "    </tr>\n",
       "    <tr>\n",
       "      <th>8</th>\n",
       "      <td>dogecoin</td>\n",
       "      <td>doge</td>\n",
       "      <td>Dogecoin</td>\n",
       "      <td>https://assets.coingecko.com/coins/images/5/la...</td>\n",
       "      <td>0.062795</td>\n",
       "      <td>8835831684</td>\n",
       "      <td>9</td>\n",
       "      <td>8.835819e+09</td>\n",
       "      <td>3.263645e+08</td>\n",
       "      <td>0.063982</td>\n",
       "      <td>...</td>\n",
       "      <td>1.406873e+11</td>\n",
       "      <td>NaN</td>\n",
       "      <td>0.731578</td>\n",
       "      <td>-91.42426</td>\n",
       "      <td>2021-05-08T05:08:23.458Z</td>\n",
       "      <td>8.690000e-05</td>\n",
       "      <td>7.209275e+04</td>\n",
       "      <td>2015-05-06T00:00:00.000Z</td>\n",
       "      <td>None</td>\n",
       "      <td>2023-08-22T01:13:21.104Z</td>\n",
       "    </tr>\n",
       "    <tr>\n",
       "      <th>9</th>\n",
       "      <td>solana</td>\n",
       "      <td>sol</td>\n",
       "      <td>Solana</td>\n",
       "      <td>https://assets.coingecko.com/coins/images/4128...</td>\n",
       "      <td>21.190000</td>\n",
       "      <td>8637443373</td>\n",
       "      <td>10</td>\n",
       "      <td>1.176958e+10</td>\n",
       "      <td>3.431405e+08</td>\n",
       "      <td>21.600000</td>\n",
       "      <td>...</td>\n",
       "      <td>5.554643e+08</td>\n",
       "      <td>NaN</td>\n",
       "      <td>259.960000</td>\n",
       "      <td>-91.84731</td>\n",
       "      <td>2021-11-06T21:54:35.825Z</td>\n",
       "      <td>5.008010e-01</td>\n",
       "      <td>4.131954e+03</td>\n",
       "      <td>2020-05-11T19:35:23.449Z</td>\n",
       "      <td>None</td>\n",
       "      <td>2023-08-22T01:13:21.095Z</td>\n",
       "    </tr>\n",
       "    <tr>\n",
       "      <th>10</th>\n",
       "      <td>tron</td>\n",
       "      <td>trx</td>\n",
       "      <td>TRON</td>\n",
       "      <td>https://assets.coingecko.com/coins/images/1094...</td>\n",
       "      <td>0.075076</td>\n",
       "      <td>6710969065</td>\n",
       "      <td>11</td>\n",
       "      <td>6.710970e+09</td>\n",
       "      <td>2.083464e+08</td>\n",
       "      <td>0.076211</td>\n",
       "      <td>...</td>\n",
       "      <td>8.941052e+10</td>\n",
       "      <td>NaN</td>\n",
       "      <td>0.231673</td>\n",
       "      <td>-67.61892</td>\n",
       "      <td>2018-01-05T00:00:00.000Z</td>\n",
       "      <td>1.804340e-03</td>\n",
       "      <td>4.057646e+03</td>\n",
       "      <td>2017-11-12T00:00:00.000Z</td>\n",
       "      <td>{'times': 38.51389430355043, 'currency': 'usd'...</td>\n",
       "      <td>2023-08-22T01:13:24.484Z</td>\n",
       "    </tr>\n",
       "    <tr>\n",
       "      <th>11</th>\n",
       "      <td>polkadot</td>\n",
       "      <td>dot</td>\n",
       "      <td>Polkadot</td>\n",
       "      <td>https://assets.coingecko.com/coins/images/1217...</td>\n",
       "      <td>4.440000</td>\n",
       "      <td>5626684433</td>\n",
       "      <td>12</td>\n",
       "      <td>5.986182e+09</td>\n",
       "      <td>1.048829e+08</td>\n",
       "      <td>4.530000</td>\n",
       "      <td>...</td>\n",
       "      <td>1.347432e+09</td>\n",
       "      <td>NaN</td>\n",
       "      <td>54.980000</td>\n",
       "      <td>-91.91509</td>\n",
       "      <td>2021-11-04T14:10:09.301Z</td>\n",
       "      <td>2.700000e+00</td>\n",
       "      <td>6.479082e+01</td>\n",
       "      <td>2020-08-20T05:48:11.359Z</td>\n",
       "      <td>None</td>\n",
       "      <td>2023-08-22T01:13:24.005Z</td>\n",
       "    </tr>\n",
       "    <tr>\n",
       "      <th>12</th>\n",
       "      <td>matic-network</td>\n",
       "      <td>matic</td>\n",
       "      <td>Polygon</td>\n",
       "      <td>https://assets.coingecko.com/coins/images/4713...</td>\n",
       "      <td>0.555860</td>\n",
       "      <td>5180558051</td>\n",
       "      <td>13</td>\n",
       "      <td>5.558855e+09</td>\n",
       "      <td>2.463015e+08</td>\n",
       "      <td>0.578171</td>\n",
       "      <td>...</td>\n",
       "      <td>1.000000e+10</td>\n",
       "      <td>1.000000e+10</td>\n",
       "      <td>2.920000</td>\n",
       "      <td>-80.91651</td>\n",
       "      <td>2021-12-27T02:08:34.307Z</td>\n",
       "      <td>3.143760e-03</td>\n",
       "      <td>1.760252e+04</td>\n",
       "      <td>2019-05-10T00:00:00.000Z</td>\n",
       "      <td>{'times': 210.35362069006374, 'currency': 'usd...</td>\n",
       "      <td>2023-08-22T01:13:27.071Z</td>\n",
       "    </tr>\n",
       "    <tr>\n",
       "      <th>13</th>\n",
       "      <td>litecoin</td>\n",
       "      <td>ltc</td>\n",
       "      <td>Litecoin</td>\n",
       "      <td>https://assets.coingecko.com/coins/images/2/la...</td>\n",
       "      <td>66.800000</td>\n",
       "      <td>4912175675</td>\n",
       "      <td>14</td>\n",
       "      <td>5.608794e+09</td>\n",
       "      <td>6.599145e+08</td>\n",
       "      <td>67.130000</td>\n",
       "      <td>...</td>\n",
       "      <td>8.400000e+07</td>\n",
       "      <td>8.400000e+07</td>\n",
       "      <td>410.260000</td>\n",
       "      <td>-83.73360</td>\n",
       "      <td>2021-05-10T03:13:07.904Z</td>\n",
       "      <td>1.150000e+00</td>\n",
       "      <td>5.708848e+03</td>\n",
       "      <td>2015-01-14T00:00:00.000Z</td>\n",
       "      <td>None</td>\n",
       "      <td>2023-08-22T01:13:24.831Z</td>\n",
       "    </tr>\n",
       "    <tr>\n",
       "      <th>14</th>\n",
       "      <td>shiba-inu</td>\n",
       "      <td>shib</td>\n",
       "      <td>Shiba Inu</td>\n",
       "      <td>https://assets.coingecko.com/coins/images/1193...</td>\n",
       "      <td>0.000008</td>\n",
       "      <td>4674003415</td>\n",
       "      <td>15</td>\n",
       "      <td>7.930892e+09</td>\n",
       "      <td>1.877300e+08</td>\n",
       "      <td>0.000008</td>\n",
       "      <td>...</td>\n",
       "      <td>9.999852e+14</td>\n",
       "      <td>NaN</td>\n",
       "      <td>0.000086</td>\n",
       "      <td>-90.79191</td>\n",
       "      <td>2021-10-28T03:54:55.568Z</td>\n",
       "      <td>5.636600e-11</td>\n",
       "      <td>1.407492e+07</td>\n",
       "      <td>2020-11-28T11:26:25.838Z</td>\n",
       "      <td>None</td>\n",
       "      <td>2023-08-22T01:13:27.196Z</td>\n",
       "    </tr>\n",
       "  </tbody>\n",
       "</table>\n",
       "<p>15 rows × 26 columns</p>\n",
       "</div>"
      ],
      "text/plain": [
       "               id symbol               name   \n",
       "0         bitcoin    btc            Bitcoin  \\\n",
       "1        ethereum    eth           Ethereum   \n",
       "2          tether   usdt             Tether   \n",
       "3     binancecoin    bnb                BNB   \n",
       "4          ripple    xrp                XRP   \n",
       "5        usd-coin   usdc           USD Coin   \n",
       "6    staked-ether  steth  Lido Staked Ether   \n",
       "7         cardano    ada            Cardano   \n",
       "8        dogecoin   doge           Dogecoin   \n",
       "9          solana    sol             Solana   \n",
       "10           tron    trx               TRON   \n",
       "11       polkadot    dot           Polkadot   \n",
       "12  matic-network  matic            Polygon   \n",
       "13       litecoin    ltc           Litecoin   \n",
       "14      shiba-inu   shib          Shiba Inu   \n",
       "\n",
       "                                                image  current_price   \n",
       "0   https://assets.coingecko.com/coins/images/1/la...   26100.000000  \\\n",
       "1   https://assets.coingecko.com/coins/images/279/...    1667.120000   \n",
       "2   https://assets.coingecko.com/coins/images/325/...       1.000000   \n",
       "3   https://assets.coingecko.com/coins/images/825/...     210.390000   \n",
       "4   https://assets.coingecko.com/coins/images/44/l...       0.520582   \n",
       "5   https://assets.coingecko.com/coins/images/6319...       0.999990   \n",
       "6   https://assets.coingecko.com/coins/images/1344...    1668.350000   \n",
       "7   https://assets.coingecko.com/coins/images/975/...       0.262707   \n",
       "8   https://assets.coingecko.com/coins/images/5/la...       0.062795   \n",
       "9   https://assets.coingecko.com/coins/images/4128...      21.190000   \n",
       "10  https://assets.coingecko.com/coins/images/1094...       0.075076   \n",
       "11  https://assets.coingecko.com/coins/images/1217...       4.440000   \n",
       "12  https://assets.coingecko.com/coins/images/4713...       0.555860   \n",
       "13  https://assets.coingecko.com/coins/images/2/la...      66.800000   \n",
       "14  https://assets.coingecko.com/coins/images/1193...       0.000008   \n",
       "\n",
       "      market_cap  market_cap_rank  fully_diluted_valuation  total_volume   \n",
       "0   507822158393                1             5.478858e+11  7.738907e+09  \\\n",
       "1   200377175767                2             2.003772e+11  6.998750e+09   \n",
       "2    82874101379                3             8.287410e+10  1.673510e+10   \n",
       "3    32370809902                4             4.207932e+10  6.545186e+08   \n",
       "4    27519317537                5             5.207862e+10  1.343759e+09   \n",
       "5    25985073163                6             2.598807e+10  4.530639e+09   \n",
       "6    13778905006                7             1.377891e+10  9.189830e+06   \n",
       "7     9209986014                8             1.182620e+10  1.731562e+08   \n",
       "8     8835831684                9             8.835819e+09  3.263645e+08   \n",
       "9     8637443373               10             1.176958e+10  3.431405e+08   \n",
       "10    6710969065               11             6.710970e+09  2.083464e+08   \n",
       "11    5626684433               12             5.986182e+09  1.048829e+08   \n",
       "12    5180558051               13             5.558855e+09  2.463015e+08   \n",
       "13    4912175675               14             5.608794e+09  6.599145e+08   \n",
       "14    4674003415               15             7.930892e+09  1.877300e+08   \n",
       "\n",
       "        high_24h  ...  total_supply    max_supply           ath   \n",
       "0   26206.000000  ...  2.100000e+07  2.100000e+07  69045.000000  \\\n",
       "1    1684.790000  ...  1.202152e+08           NaN   4878.260000   \n",
       "2       1.003000  ...  8.284648e+10           NaN      1.320000   \n",
       "3     216.790000  ...  1.538562e+08  2.000000e+08    686.310000   \n",
       "4       0.537880  ...  9.998850e+10  1.000000e+11      3.400000   \n",
       "5       1.004000  ...  2.598912e+10           NaN      1.170000   \n",
       "6    1685.070000  ...  8.261388e+06  8.261388e+06   4829.570000   \n",
       "7       0.272207  ...  4.500000e+10  4.500000e+10      3.090000   \n",
       "8       0.063982  ...  1.406873e+11           NaN      0.731578   \n",
       "9      21.600000  ...  5.554643e+08           NaN    259.960000   \n",
       "10      0.076211  ...  8.941052e+10           NaN      0.231673   \n",
       "11      4.530000  ...  1.347432e+09           NaN     54.980000   \n",
       "12      0.578171  ...  1.000000e+10  1.000000e+10      2.920000   \n",
       "13     67.130000  ...  8.400000e+07  8.400000e+07    410.260000   \n",
       "14      0.000008  ...  9.999852e+14           NaN      0.000086   \n",
       "\n",
       "    ath_change_percentage                  ath_date           atl   \n",
       "0               -62.19548  2021-11-10T14:24:11.849Z  6.781000e+01  \\\n",
       "1               -65.82176  2021-11-10T14:24:19.604Z  4.329790e-01   \n",
       "2               -24.42259  2018-07-24T00:00:00.000Z  5.725210e-01   \n",
       "3               -69.34152  2021-05-10T07:24:17.097Z  3.981770e-02   \n",
       "4               -84.67845  2018-01-07T00:00:00.000Z  2.686210e-03   \n",
       "5               -14.73826  2019-05-08T00:40:28.300Z  8.776470e-01   \n",
       "6               -65.46661  2021-11-10T14:40:47.256Z  4.829000e+02   \n",
       "7               -91.48138  2021-09-02T06:00:10.474Z  1.925275e-02   \n",
       "8               -91.42426  2021-05-08T05:08:23.458Z  8.690000e-05   \n",
       "9               -91.84731  2021-11-06T21:54:35.825Z  5.008010e-01   \n",
       "10              -67.61892  2018-01-05T00:00:00.000Z  1.804340e-03   \n",
       "11              -91.91509  2021-11-04T14:10:09.301Z  2.700000e+00   \n",
       "12              -80.91651  2021-12-27T02:08:34.307Z  3.143760e-03   \n",
       "13              -83.73360  2021-05-10T03:13:07.904Z  1.150000e+00   \n",
       "14              -90.79191  2021-10-28T03:54:55.568Z  5.636600e-11   \n",
       "\n",
       "    atl_change_percentage                  atl_date   \n",
       "0            3.839348e+04  2013-07-06T00:00:00.000Z  \\\n",
       "1            3.849774e+05  2015-10-20T00:00:00.000Z   \n",
       "2            7.465930e+01  2015-03-02T00:00:00.000Z   \n",
       "3            5.283364e+05  2017-10-19T00:00:00.000Z   \n",
       "4            1.928403e+04  2014-05-22T00:00:00.000Z   \n",
       "5            1.392622e+01  2023-03-11T08:02:13.981Z   \n",
       "6            2.453775e+02  2020-12-22T04:08:21.854Z   \n",
       "7            1.265842e+03  2020-03-13T02:22:55.044Z   \n",
       "8            7.209275e+04  2015-05-06T00:00:00.000Z   \n",
       "9            4.131954e+03  2020-05-11T19:35:23.449Z   \n",
       "10           4.057646e+03  2017-11-12T00:00:00.000Z   \n",
       "11           6.479082e+01  2020-08-20T05:48:11.359Z   \n",
       "12           1.760252e+04  2019-05-10T00:00:00.000Z   \n",
       "13           5.708848e+03  2015-01-14T00:00:00.000Z   \n",
       "14           1.407492e+07  2020-11-28T11:26:25.838Z   \n",
       "\n",
       "                                                  roi   \n",
       "0                                                None  \\\n",
       "1   {'times': 84.40287511547022, 'currency': 'btc'...   \n",
       "2                                                None   \n",
       "3                                                None   \n",
       "4                                                None   \n",
       "5                                                None   \n",
       "6                                                None   \n",
       "7                                                None   \n",
       "8                                                None   \n",
       "9                                                None   \n",
       "10  {'times': 38.51389430355043, 'currency': 'usd'...   \n",
       "11                                               None   \n",
       "12  {'times': 210.35362069006374, 'currency': 'usd...   \n",
       "13                                               None   \n",
       "14                                               None   \n",
       "\n",
       "                last_updated  \n",
       "0   2023-08-22T01:13:23.367Z  \n",
       "1   2023-08-22T01:13:22.990Z  \n",
       "2   2023-08-22T01:10:00.458Z  \n",
       "3   2023-08-22T01:13:25.481Z  \n",
       "4   2023-08-22T01:13:25.234Z  \n",
       "5   2023-08-22T01:13:24.616Z  \n",
       "6   2023-08-22T01:13:21.951Z  \n",
       "7   2023-08-22T01:13:25.068Z  \n",
       "8   2023-08-22T01:13:21.104Z  \n",
       "9   2023-08-22T01:13:21.095Z  \n",
       "10  2023-08-22T01:13:24.484Z  \n",
       "11  2023-08-22T01:13:24.005Z  \n",
       "12  2023-08-22T01:13:27.071Z  \n",
       "13  2023-08-22T01:13:24.831Z  \n",
       "14  2023-08-22T01:13:27.196Z  \n",
       "\n",
       "[15 rows x 26 columns]"
      ]
     },
     "execution_count": 4,
     "metadata": {},
     "output_type": "execute_result"
    }
   ],
   "source": [
    "all_coins_market = cg.get_coins_markets(vs_currency ='usd')\n",
    "all_coins_market_df = pd.DataFrame(all_coins_market)\n",
    "all_coins_market_df.head(15)"
   ]
  },
  {
   "cell_type": "markdown",
   "metadata": {},
   "source": [
    "De la lista brindada, solo extraeremos 15 cirptomonedas mejor rankeadas por el mercado para el desarrollo del proyecto, estas serían las sigueintes:"
   ]
  },
  {
   "cell_type": "code",
   "execution_count": 5,
   "metadata": {},
   "outputs": [],
   "source": [
    "coin_names=['bitcoin', 'ethereum', 'tether', 'binancecoin', 'ripple', 'usd-coin', 'staked-ether', \n",
    "            'cardano', 'dogecoin', 'solana', 'tron', 'polkadot', 'matic-network', 'shiba-inu', 'litecoin']"
   ]
  },
  {
   "cell_type": "markdown",
   "metadata": {},
   "source": [
    "- El siguiente artículo muestra el Top 20 de criptomonedas proyectadas para el año 2023, incluyendo las 15 criptomonedas elegidas, brindando un expertise por cada moneda que servirá posteriormente.\n",
    "\n",
    "    https://staxpayments.com/blog/most-popular-cryptocurrencies/"
   ]
  },
  {
   "cell_type": "markdown",
   "metadata": {},
   "source": [
    "- La revisa Forbes advisor rankea en un Top 10 a las criptomonedas con un buen comprotamiento hasta el 16 de Agosto del 2023, de igual forma, incluye las criptomonedas elegidad.\n",
    "  \n",
    "    https://www.forbes.com/advisor/investing/cryptocurrency/top-10-cryptocurrencies/"
   ]
  },
  {
   "cell_type": "markdown",
   "metadata": {},
   "source": [
    "5. La API de coingecko utiliza la fecha en formato Unix, por lo que convertiremos las fechas deseadas a este formato con un simple cálculo."
   ]
  },
  {
   "cell_type": "code",
   "execution_count": 6,
   "metadata": {},
   "outputs": [
    {
     "name": "stdout",
     "output_type": "stream",
     "text": [
      "Tiempo Unix: 1262390340\n"
     ]
    }
   ],
   "source": [
    "# Definimos la fecha y hora que deseamos inicie el dataset, en este caso será 1 de enero del 2010 a las 0:0 hrs.\n",
    "fecha_hora = datetime(2010, 1, 1, 23, 59)\n",
    "\n",
    "# Calculamos el tiempo Unix\n",
    "tiempo_unix = (fecha_hora - datetime(1970, 1, 1)).total_seconds()\n",
    "\n",
    "print(\"Tiempo Unix:\", int(tiempo_unix))\n"
   ]
  },
  {
   "cell_type": "code",
   "execution_count": 7,
   "metadata": {},
   "outputs": [
    {
     "name": "stdout",
     "output_type": "stream",
     "text": [
      "Tiempo Unix: 1692143940\n"
     ]
    }
   ],
   "source": [
    "# Definimos la fecha y hora que deseamos termine el dataset, en este caso será el 15 de agosto del 2023 a las 0:0 hrs.\n",
    "fecha_hora2 = datetime(2023, 8, 15, 23, 59)\n",
    "\n",
    "# Calcular el tiempo Unix\n",
    "tiempo_unix2 = (fecha_hora2 - datetime(1970, 1, 1)).total_seconds()\n",
    "\n",
    "print(\"Tiempo Unix:\", int(tiempo_unix2))"
   ]
  },
  {
   "cell_type": "markdown",
   "metadata": {},
   "source": [
    "6. Con el endpoint \"get_coin_market_chart_range_by_id\" de la API de coingecko, extraemos los datos de cada moneda con la fecha definida anteriormente."
   ]
  },
  {
   "cell_type": "markdown",
   "metadata": {},
   "source": [
    "*Bitcoin*"
   ]
  },
  {
   "cell_type": "code",
   "execution_count": 8,
   "metadata": {},
   "outputs": [
    {
     "data": {
      "text/html": [
       "<div>\n",
       "<style scoped>\n",
       "    .dataframe tbody tr th:only-of-type {\n",
       "        vertical-align: middle;\n",
       "    }\n",
       "\n",
       "    .dataframe tbody tr th {\n",
       "        vertical-align: top;\n",
       "    }\n",
       "\n",
       "    .dataframe thead th {\n",
       "        text-align: right;\n",
       "    }\n",
       "</style>\n",
       "<table border=\"1\" class=\"dataframe\">\n",
       "  <thead>\n",
       "    <tr style=\"text-align: right;\">\n",
       "      <th></th>\n",
       "      <th>prices</th>\n",
       "      <th>market_caps</th>\n",
       "      <th>total_volumes</th>\n",
       "    </tr>\n",
       "  </thead>\n",
       "  <tbody>\n",
       "    <tr>\n",
       "      <th>0</th>\n",
       "      <td>[1367107200000, 135.3]</td>\n",
       "      <td>[1367107200000, 1500517590]</td>\n",
       "      <td>[1367107200000, 0]</td>\n",
       "    </tr>\n",
       "    <tr>\n",
       "      <th>1</th>\n",
       "      <td>[1367193600000, 141.96]</td>\n",
       "      <td>[1367193600000, 1575032004.0]</td>\n",
       "      <td>[1367193600000, 0.0]</td>\n",
       "    </tr>\n",
       "  </tbody>\n",
       "</table>\n",
       "</div>"
      ],
      "text/plain": [
       "                    prices                    market_caps   \n",
       "0   [1367107200000, 135.3]    [1367107200000, 1500517590]  \\\n",
       "1  [1367193600000, 141.96]  [1367193600000, 1575032004.0]   \n",
       "\n",
       "          total_volumes  \n",
       "0    [1367107200000, 0]  \n",
       "1  [1367193600000, 0.0]  "
      ]
     },
     "execution_count": 8,
     "metadata": {},
     "output_type": "execute_result"
    }
   ],
   "source": [
    "h_bitcoin=cg.get_coin_market_chart_range_by_id(id='bitcoin', vs_currency='usd', from_timestamp =1262390340, to_timestamp=1692057600)\n",
    "h_bitcoin_df = pd.DataFrame.from_dict(h_bitcoin, orient='index')\n",
    "h_bitcoin_df = h_bitcoin_df.transpose()\n",
    "h_bitcoin_df.head(2)"
   ]
  },
  {
   "cell_type": "markdown",
   "metadata": {},
   "source": [
    "*Ethereum*"
   ]
  },
  {
   "cell_type": "code",
   "execution_count": 9,
   "metadata": {},
   "outputs": [
    {
     "data": {
      "text/html": [
       "<div>\n",
       "<style scoped>\n",
       "    .dataframe tbody tr th:only-of-type {\n",
       "        vertical-align: middle;\n",
       "    }\n",
       "\n",
       "    .dataframe tbody tr th {\n",
       "        vertical-align: top;\n",
       "    }\n",
       "\n",
       "    .dataframe thead th {\n",
       "        text-align: right;\n",
       "    }\n",
       "</style>\n",
       "<table border=\"1\" class=\"dataframe\">\n",
       "  <thead>\n",
       "    <tr style=\"text-align: right;\">\n",
       "      <th></th>\n",
       "      <th>prices</th>\n",
       "      <th>market_caps</th>\n",
       "      <th>total_volumes</th>\n",
       "    </tr>\n",
       "  </thead>\n",
       "  <tbody>\n",
       "    <tr>\n",
       "      <th>0</th>\n",
       "      <td>[1483228800000, 8.064789989459687]</td>\n",
       "      <td>[1483228800000, 705615194.8270631]</td>\n",
       "      <td>[1483228800000, 7811699.12614274]</td>\n",
       "    </tr>\n",
       "    <tr>\n",
       "      <th>1</th>\n",
       "      <td>[1483315200000, 8.361286160728705]</td>\n",
       "      <td>[1483315200000, 731817457.4649888]</td>\n",
       "      <td>[1483315200000, 8192075.241699923]</td>\n",
       "    </tr>\n",
       "  </tbody>\n",
       "</table>\n",
       "</div>"
      ],
      "text/plain": [
       "                               prices                         market_caps   \n",
       "0  [1483228800000, 8.064789989459687]  [1483228800000, 705615194.8270631]  \\\n",
       "1  [1483315200000, 8.361286160728705]  [1483315200000, 731817457.4649888]   \n",
       "\n",
       "                        total_volumes  \n",
       "0   [1483228800000, 7811699.12614274]  \n",
       "1  [1483315200000, 8192075.241699923]  "
      ]
     },
     "execution_count": 9,
     "metadata": {},
     "output_type": "execute_result"
    }
   ],
   "source": [
    "h_ethereum=cg.get_coin_market_chart_range_by_id(id='ethereum', vs_currency='usd', from_timestamp =1483228800, to_timestamp=1692057600)\n",
    "h_ethereum_df = pd.DataFrame.from_dict(h_ethereum, orient='index')\n",
    "h_ethereum_df = h_ethereum_df.transpose()\n",
    "h_ethereum_df.head(2)"
   ]
  },
  {
   "cell_type": "markdown",
   "metadata": {},
   "source": [
    "*Tether*"
   ]
  },
  {
   "cell_type": "code",
   "execution_count": 10,
   "metadata": {},
   "outputs": [
    {
     "data": {
      "text/html": [
       "<div>\n",
       "<style scoped>\n",
       "    .dataframe tbody tr th:only-of-type {\n",
       "        vertical-align: middle;\n",
       "    }\n",
       "\n",
       "    .dataframe tbody tr th {\n",
       "        vertical-align: top;\n",
       "    }\n",
       "\n",
       "    .dataframe thead th {\n",
       "        text-align: right;\n",
       "    }\n",
       "</style>\n",
       "<table border=\"1\" class=\"dataframe\">\n",
       "  <thead>\n",
       "    <tr style=\"text-align: right;\">\n",
       "      <th></th>\n",
       "      <th>prices</th>\n",
       "      <th>market_caps</th>\n",
       "      <th>total_volumes</th>\n",
       "    </tr>\n",
       "  </thead>\n",
       "  <tbody>\n",
       "    <tr>\n",
       "      <th>0</th>\n",
       "      <td>[1483228800000, 1.0]</td>\n",
       "      <td>[1483228800000, 9951590.0]</td>\n",
       "      <td>[1483228800000, 1914630.0]</td>\n",
       "    </tr>\n",
       "    <tr>\n",
       "      <th>1</th>\n",
       "      <td>[1483315200000, 1.0]</td>\n",
       "      <td>[1483315200000, 9951590.0]</td>\n",
       "      <td>[1483315200000, 3179490.0]</td>\n",
       "    </tr>\n",
       "  </tbody>\n",
       "</table>\n",
       "</div>"
      ],
      "text/plain": [
       "                 prices                 market_caps   \n",
       "0  [1483228800000, 1.0]  [1483228800000, 9951590.0]  \\\n",
       "1  [1483315200000, 1.0]  [1483315200000, 9951590.0]   \n",
       "\n",
       "                total_volumes  \n",
       "0  [1483228800000, 1914630.0]  \n",
       "1  [1483315200000, 3179490.0]  "
      ]
     },
     "execution_count": 10,
     "metadata": {},
     "output_type": "execute_result"
    }
   ],
   "source": [
    "h_tether=cg.get_coin_market_chart_range_by_id(id='tether', vs_currency='usd', from_timestamp =1483228800, to_timestamp=1692057600)\n",
    "h_tether_df = pd.DataFrame.from_dict(h_tether, orient='index')\n",
    "h_tether_df = h_tether_df.transpose()\n",
    "h_tether_df.head(2)"
   ]
  },
  {
   "cell_type": "markdown",
   "metadata": {},
   "source": [
    "*Binancecoin*"
   ]
  },
  {
   "cell_type": "code",
   "execution_count": 11,
   "metadata": {},
   "outputs": [
    {
     "data": {
      "text/html": [
       "<div>\n",
       "<style scoped>\n",
       "    .dataframe tbody tr th:only-of-type {\n",
       "        vertical-align: middle;\n",
       "    }\n",
       "\n",
       "    .dataframe tbody tr th {\n",
       "        vertical-align: top;\n",
       "    }\n",
       "\n",
       "    .dataframe thead th {\n",
       "        text-align: right;\n",
       "    }\n",
       "</style>\n",
       "<table border=\"1\" class=\"dataframe\">\n",
       "  <thead>\n",
       "    <tr style=\"text-align: right;\">\n",
       "      <th></th>\n",
       "      <th>prices</th>\n",
       "      <th>market_caps</th>\n",
       "      <th>total_volumes</th>\n",
       "    </tr>\n",
       "  </thead>\n",
       "  <tbody>\n",
       "    <tr>\n",
       "      <th>0</th>\n",
       "      <td>[1505520000000, 0.10725062436515388]</td>\n",
       "      <td>[1505520000000, 10725062.436515387]</td>\n",
       "      <td>[1505520000000, 1.0512233074868058]</td>\n",
       "    </tr>\n",
       "    <tr>\n",
       "      <th>1</th>\n",
       "      <td>[1505606400000, 0.15404129090981247]</td>\n",
       "      <td>[1505606400000, 15404129.090981247]</td>\n",
       "      <td>[1505606400000, 14.678587222975718]</td>\n",
       "    </tr>\n",
       "  </tbody>\n",
       "</table>\n",
       "</div>"
      ],
      "text/plain": [
       "                                 prices                          market_caps   \n",
       "0  [1505520000000, 0.10725062436515388]  [1505520000000, 10725062.436515387]  \\\n",
       "1  [1505606400000, 0.15404129090981247]  [1505606400000, 15404129.090981247]   \n",
       "\n",
       "                         total_volumes  \n",
       "0  [1505520000000, 1.0512233074868058]  \n",
       "1  [1505606400000, 14.678587222975718]  "
      ]
     },
     "execution_count": 11,
     "metadata": {},
     "output_type": "execute_result"
    }
   ],
   "source": [
    "h_binancecoin=cg.get_coin_market_chart_range_by_id(id='binancecoin', vs_currency='usd', from_timestamp =1483228800, to_timestamp=1692057600)\n",
    "h_binancecoin_df = pd.DataFrame.from_dict(h_binancecoin, orient='index')\n",
    "h_binancecoin_df = h_binancecoin_df.transpose()\n",
    "h_binancecoin_df.head(2)"
   ]
  },
  {
   "cell_type": "markdown",
   "metadata": {},
   "source": [
    "*Ripple*"
   ]
  },
  {
   "cell_type": "code",
   "execution_count": 12,
   "metadata": {},
   "outputs": [
    {
     "data": {
      "text/html": [
       "<div>\n",
       "<style scoped>\n",
       "    .dataframe tbody tr th:only-of-type {\n",
       "        vertical-align: middle;\n",
       "    }\n",
       "\n",
       "    .dataframe tbody tr th {\n",
       "        vertical-align: top;\n",
       "    }\n",
       "\n",
       "    .dataframe thead th {\n",
       "        text-align: right;\n",
       "    }\n",
       "</style>\n",
       "<table border=\"1\" class=\"dataframe\">\n",
       "  <thead>\n",
       "    <tr style=\"text-align: right;\">\n",
       "      <th></th>\n",
       "      <th>prices</th>\n",
       "      <th>market_caps</th>\n",
       "      <th>total_volumes</th>\n",
       "    </tr>\n",
       "  </thead>\n",
       "  <tbody>\n",
       "    <tr>\n",
       "      <th>0</th>\n",
       "      <td>[1483228800000, 0.006375999999999999]</td>\n",
       "      <td>[1483228800000, 231686616.18602395]</td>\n",
       "      <td>[1483228800000, 418493.0]</td>\n",
       "    </tr>\n",
       "    <tr>\n",
       "      <th>1</th>\n",
       "      <td>[1483315200000, 0.006309]</td>\n",
       "      <td>[1483315200000, 229252017.176541]</td>\n",
       "      <td>[1483315200000, 1047280.0]</td>\n",
       "    </tr>\n",
       "  </tbody>\n",
       "</table>\n",
       "</div>"
      ],
      "text/plain": [
       "                                  prices                          market_caps   \n",
       "0  [1483228800000, 0.006375999999999999]  [1483228800000, 231686616.18602395]  \\\n",
       "1              [1483315200000, 0.006309]    [1483315200000, 229252017.176541]   \n",
       "\n",
       "                total_volumes  \n",
       "0   [1483228800000, 418493.0]  \n",
       "1  [1483315200000, 1047280.0]  "
      ]
     },
     "execution_count": 12,
     "metadata": {},
     "output_type": "execute_result"
    }
   ],
   "source": [
    "h_ripple=cg.get_coin_market_chart_range_by_id(id='ripple', vs_currency='usd', from_timestamp =1483228800, to_timestamp=1692057600)\n",
    "h_ripple_df = pd.DataFrame.from_dict(h_ripple, orient='index')\n",
    "h_ripple_df = h_ripple_df.transpose()\n",
    "h_ripple_df.head(2)"
   ]
  },
  {
   "cell_type": "markdown",
   "metadata": {},
   "source": [
    "*Usd-coin*"
   ]
  },
  {
   "cell_type": "code",
   "execution_count": 13,
   "metadata": {},
   "outputs": [
    {
     "data": {
      "text/html": [
       "<div>\n",
       "<style scoped>\n",
       "    .dataframe tbody tr th:only-of-type {\n",
       "        vertical-align: middle;\n",
       "    }\n",
       "\n",
       "    .dataframe tbody tr th {\n",
       "        vertical-align: top;\n",
       "    }\n",
       "\n",
       "    .dataframe thead th {\n",
       "        text-align: right;\n",
       "    }\n",
       "</style>\n",
       "<table border=\"1\" class=\"dataframe\">\n",
       "  <thead>\n",
       "    <tr style=\"text-align: right;\">\n",
       "      <th></th>\n",
       "      <th>prices</th>\n",
       "      <th>market_caps</th>\n",
       "      <th>total_volumes</th>\n",
       "    </tr>\n",
       "  </thead>\n",
       "  <tbody>\n",
       "    <tr>\n",
       "      <th>0</th>\n",
       "      <td>[1538697600000, 1.0062418761688314]</td>\n",
       "      <td>[1538697600000, 0.0]</td>\n",
       "      <td>[1538697600000, 31264.420429900205]</td>\n",
       "    </tr>\n",
       "    <tr>\n",
       "      <th>1</th>\n",
       "      <td>[1538784000000, 1.0015295223068545]</td>\n",
       "      <td>[1538784000000, 0.0]</td>\n",
       "      <td>[1538784000000, 20254.71225490974]</td>\n",
       "    </tr>\n",
       "  </tbody>\n",
       "</table>\n",
       "</div>"
      ],
      "text/plain": [
       "                                prices           market_caps   \n",
       "0  [1538697600000, 1.0062418761688314]  [1538697600000, 0.0]  \\\n",
       "1  [1538784000000, 1.0015295223068545]  [1538784000000, 0.0]   \n",
       "\n",
       "                         total_volumes  \n",
       "0  [1538697600000, 31264.420429900205]  \n",
       "1   [1538784000000, 20254.71225490974]  "
      ]
     },
     "execution_count": 13,
     "metadata": {},
     "output_type": "execute_result"
    }
   ],
   "source": [
    "h_usd_coin=cg.get_coin_market_chart_range_by_id(id='usd-coin', vs_currency='usd', from_timestamp =1483228800, to_timestamp=1692057600)\n",
    "h_usd_coin_df = pd.DataFrame.from_dict(h_usd_coin, orient='index')\n",
    "h_usd_coin_df = h_usd_coin_df.transpose()\n",
    "h_usd_coin_df.head(2)"
   ]
  },
  {
   "cell_type": "markdown",
   "metadata": {},
   "source": [
    "*Staked-ether*"
   ]
  },
  {
   "cell_type": "code",
   "execution_count": 14,
   "metadata": {},
   "outputs": [
    {
     "data": {
      "text/html": [
       "<div>\n",
       "<style scoped>\n",
       "    .dataframe tbody tr th:only-of-type {\n",
       "        vertical-align: middle;\n",
       "    }\n",
       "\n",
       "    .dataframe tbody tr th {\n",
       "        vertical-align: top;\n",
       "    }\n",
       "\n",
       "    .dataframe thead th {\n",
       "        text-align: right;\n",
       "    }\n",
       "</style>\n",
       "<table border=\"1\" class=\"dataframe\">\n",
       "  <thead>\n",
       "    <tr style=\"text-align: right;\">\n",
       "      <th></th>\n",
       "      <th>prices</th>\n",
       "      <th>market_caps</th>\n",
       "      <th>total_volumes</th>\n",
       "    </tr>\n",
       "  </thead>\n",
       "  <tbody>\n",
       "    <tr>\n",
       "      <th>0</th>\n",
       "      <td>[1608595200000, 617.1649966237076]</td>\n",
       "      <td>[1608595200000, 0.0]</td>\n",
       "      <td>[1608595200000, 137563.02655658743]</td>\n",
       "    </tr>\n",
       "    <tr>\n",
       "      <th>1</th>\n",
       "      <td>[1608681600000, 617.1649966237076]</td>\n",
       "      <td>[1608681600000, 0.0]</td>\n",
       "      <td>[1608681600000, 137563.02655658743]</td>\n",
       "    </tr>\n",
       "  </tbody>\n",
       "</table>\n",
       "</div>"
      ],
      "text/plain": [
       "                               prices           market_caps   \n",
       "0  [1608595200000, 617.1649966237076]  [1608595200000, 0.0]  \\\n",
       "1  [1608681600000, 617.1649966237076]  [1608681600000, 0.0]   \n",
       "\n",
       "                         total_volumes  \n",
       "0  [1608595200000, 137563.02655658743]  \n",
       "1  [1608681600000, 137563.02655658743]  "
      ]
     },
     "execution_count": 14,
     "metadata": {},
     "output_type": "execute_result"
    }
   ],
   "source": [
    "h_staked_ether=cg.get_coin_market_chart_range_by_id(id='staked-ether', vs_currency='usd', from_timestamp =1483228800, to_timestamp=1692057600)\n",
    "h_staked_ether_df = pd.DataFrame.from_dict(h_staked_ether, orient='index')\n",
    "h_staked_ether_df = h_staked_ether_df.transpose()\n",
    "h_staked_ether_df.head(2)"
   ]
  },
  {
   "cell_type": "markdown",
   "metadata": {},
   "source": [
    "*Cardano*"
   ]
  },
  {
   "cell_type": "code",
   "execution_count": 15,
   "metadata": {},
   "outputs": [
    {
     "data": {
      "text/html": [
       "<div>\n",
       "<style scoped>\n",
       "    .dataframe tbody tr th:only-of-type {\n",
       "        vertical-align: middle;\n",
       "    }\n",
       "\n",
       "    .dataframe tbody tr th {\n",
       "        vertical-align: top;\n",
       "    }\n",
       "\n",
       "    .dataframe thead th {\n",
       "        text-align: right;\n",
       "    }\n",
       "</style>\n",
       "<table border=\"1\" class=\"dataframe\">\n",
       "  <thead>\n",
       "    <tr style=\"text-align: right;\">\n",
       "      <th></th>\n",
       "      <th>prices</th>\n",
       "      <th>market_caps</th>\n",
       "      <th>total_volumes</th>\n",
       "    </tr>\n",
       "  </thead>\n",
       "  <tbody>\n",
       "    <tr>\n",
       "      <th>0</th>\n",
       "      <td>[1508284800000, 0.02684535467621909]</td>\n",
       "      <td>[1508284800000, 696021404.3079604]</td>\n",
       "      <td>[1508284800000, 2351678.122306208]</td>\n",
       "    </tr>\n",
       "    <tr>\n",
       "      <th>1</th>\n",
       "      <td>[1508371200000, 0.026829950465728686]</td>\n",
       "      <td>[1508371200000, 695622018.2559936]</td>\n",
       "      <td>[1508371200000, 2815155.9695999967]</td>\n",
       "    </tr>\n",
       "  </tbody>\n",
       "</table>\n",
       "</div>"
      ],
      "text/plain": [
       "                                  prices                         market_caps   \n",
       "0   [1508284800000, 0.02684535467621909]  [1508284800000, 696021404.3079604]  \\\n",
       "1  [1508371200000, 0.026829950465728686]  [1508371200000, 695622018.2559936]   \n",
       "\n",
       "                         total_volumes  \n",
       "0   [1508284800000, 2351678.122306208]  \n",
       "1  [1508371200000, 2815155.9695999967]  "
      ]
     },
     "execution_count": 15,
     "metadata": {},
     "output_type": "execute_result"
    }
   ],
   "source": [
    "h_cardano=cg.get_coin_market_chart_range_by_id(id='cardano', vs_currency='usd', from_timestamp =1483228800, to_timestamp=1692057600)\n",
    "h_cardano_df = pd.DataFrame.from_dict(h_cardano, orient='index')\n",
    "h_cardano_df = h_cardano_df.transpose()\n",
    "h_cardano_df.head(2)"
   ]
  },
  {
   "cell_type": "markdown",
   "metadata": {},
   "source": [
    "*Dogecoin*"
   ]
  },
  {
   "cell_type": "code",
   "execution_count": 16,
   "metadata": {},
   "outputs": [
    {
     "data": {
      "text/html": [
       "<div>\n",
       "<style scoped>\n",
       "    .dataframe tbody tr th:only-of-type {\n",
       "        vertical-align: middle;\n",
       "    }\n",
       "\n",
       "    .dataframe tbody tr th {\n",
       "        vertical-align: top;\n",
       "    }\n",
       "\n",
       "    .dataframe thead th {\n",
       "        text-align: right;\n",
       "    }\n",
       "</style>\n",
       "<table border=\"1\" class=\"dataframe\">\n",
       "  <thead>\n",
       "    <tr style=\"text-align: right;\">\n",
       "      <th></th>\n",
       "      <th>prices</th>\n",
       "      <th>market_caps</th>\n",
       "      <th>total_volumes</th>\n",
       "    </tr>\n",
       "  </thead>\n",
       "  <tbody>\n",
       "    <tr>\n",
       "      <th>0</th>\n",
       "      <td>[1483228800000, 0.00022070085903662146]</td>\n",
       "      <td>[1483228800000, 23734953.118906334]</td>\n",
       "      <td>[1483228800000, 87182.38605575034]</td>\n",
       "    </tr>\n",
       "    <tr>\n",
       "      <th>1</th>\n",
       "      <td>[1483315200000, 0.0002214509581657715]</td>\n",
       "      <td>[1483315200000, 23818706.45912645]</td>\n",
       "      <td>[1483315200000, 122738.62523927088]</td>\n",
       "    </tr>\n",
       "  </tbody>\n",
       "</table>\n",
       "</div>"
      ],
      "text/plain": [
       "                                    prices   \n",
       "0  [1483228800000, 0.00022070085903662146]  \\\n",
       "1   [1483315200000, 0.0002214509581657715]   \n",
       "\n",
       "                           market_caps                        total_volumes  \n",
       "0  [1483228800000, 23734953.118906334]   [1483228800000, 87182.38605575034]  \n",
       "1   [1483315200000, 23818706.45912645]  [1483315200000, 122738.62523927088]  "
      ]
     },
     "execution_count": 16,
     "metadata": {},
     "output_type": "execute_result"
    }
   ],
   "source": [
    "h_dogecoin=cg.get_coin_market_chart_range_by_id(id='dogecoin', vs_currency='usd', from_timestamp =1483228800, to_timestamp=1692057600)\n",
    "h_dogecoin_df = pd.DataFrame.from_dict(h_dogecoin, orient='index')\n",
    "h_dogecoin_df = h_dogecoin_df.transpose()\n",
    "h_dogecoin_df.head(2)"
   ]
  },
  {
   "cell_type": "markdown",
   "metadata": {},
   "source": [
    "*Solana*"
   ]
  },
  {
   "cell_type": "code",
   "execution_count": 17,
   "metadata": {},
   "outputs": [
    {
     "data": {
      "text/html": [
       "<div>\n",
       "<style scoped>\n",
       "    .dataframe tbody tr th:only-of-type {\n",
       "        vertical-align: middle;\n",
       "    }\n",
       "\n",
       "    .dataframe tbody tr th {\n",
       "        vertical-align: top;\n",
       "    }\n",
       "\n",
       "    .dataframe thead th {\n",
       "        text-align: right;\n",
       "    }\n",
       "</style>\n",
       "<table border=\"1\" class=\"dataframe\">\n",
       "  <thead>\n",
       "    <tr style=\"text-align: right;\">\n",
       "      <th></th>\n",
       "      <th>prices</th>\n",
       "      <th>market_caps</th>\n",
       "      <th>total_volumes</th>\n",
       "    </tr>\n",
       "  </thead>\n",
       "  <tbody>\n",
       "    <tr>\n",
       "      <th>0</th>\n",
       "      <td>[1586563200000, 0.9576058280146803]</td>\n",
       "      <td>[1586563200000, 7827651.892659198]</td>\n",
       "      <td>[1586563200000, 92672667.43447028]</td>\n",
       "    </tr>\n",
       "    <tr>\n",
       "      <th>1</th>\n",
       "      <td>[1586649600000, 0.7847113148208426]</td>\n",
       "      <td>[1586649600000, 6173607.678345317]</td>\n",
       "      <td>[1586649600000, 49458692.875223994]</td>\n",
       "    </tr>\n",
       "  </tbody>\n",
       "</table>\n",
       "</div>"
      ],
      "text/plain": [
       "                                prices                         market_caps   \n",
       "0  [1586563200000, 0.9576058280146803]  [1586563200000, 7827651.892659198]  \\\n",
       "1  [1586649600000, 0.7847113148208426]  [1586649600000, 6173607.678345317]   \n",
       "\n",
       "                         total_volumes  \n",
       "0   [1586563200000, 92672667.43447028]  \n",
       "1  [1586649600000, 49458692.875223994]  "
      ]
     },
     "execution_count": 17,
     "metadata": {},
     "output_type": "execute_result"
    }
   ],
   "source": [
    "h_solana=cg.get_coin_market_chart_range_by_id(id='solana', vs_currency='usd', from_timestamp =1483228800, to_timestamp=1692057600)\n",
    "h_solana_df = pd.DataFrame.from_dict(h_solana, orient='index')\n",
    "h_solana_df = h_solana_df.transpose()\n",
    "h_solana_df.head(2)"
   ]
  },
  {
   "cell_type": "markdown",
   "metadata": {},
   "source": [
    "*Tron*"
   ]
  },
  {
   "cell_type": "code",
   "execution_count": 18,
   "metadata": {},
   "outputs": [
    {
     "data": {
      "text/html": [
       "<div>\n",
       "<style scoped>\n",
       "    .dataframe tbody tr th:only-of-type {\n",
       "        vertical-align: middle;\n",
       "    }\n",
       "\n",
       "    .dataframe tbody tr th {\n",
       "        vertical-align: top;\n",
       "    }\n",
       "\n",
       "    .dataframe thead th {\n",
       "        text-align: right;\n",
       "    }\n",
       "</style>\n",
       "<table border=\"1\" class=\"dataframe\">\n",
       "  <thead>\n",
       "    <tr style=\"text-align: right;\">\n",
       "      <th></th>\n",
       "      <th>prices</th>\n",
       "      <th>market_caps</th>\n",
       "      <th>total_volumes</th>\n",
       "    </tr>\n",
       "  </thead>\n",
       "  <tbody>\n",
       "    <tr>\n",
       "      <th>0</th>\n",
       "      <td>[1510185600000, 0.0023868224612059903]</td>\n",
       "      <td>[1510185600000, 156404161.61769113]</td>\n",
       "      <td>[1510185600000, 1224287.1701759468]</td>\n",
       "    </tr>\n",
       "    <tr>\n",
       "      <th>1</th>\n",
       "      <td>[1510272000000, 0.0020444407393174656]</td>\n",
       "      <td>[1510272000000, 133968506.2492818]</td>\n",
       "      <td>[1510272000000, 990422.8194999617]</td>\n",
       "    </tr>\n",
       "  </tbody>\n",
       "</table>\n",
       "</div>"
      ],
      "text/plain": [
       "                                   prices   \n",
       "0  [1510185600000, 0.0023868224612059903]  \\\n",
       "1  [1510272000000, 0.0020444407393174656]   \n",
       "\n",
       "                           market_caps                        total_volumes  \n",
       "0  [1510185600000, 156404161.61769113]  [1510185600000, 1224287.1701759468]  \n",
       "1   [1510272000000, 133968506.2492818]   [1510272000000, 990422.8194999617]  "
      ]
     },
     "execution_count": 18,
     "metadata": {},
     "output_type": "execute_result"
    }
   ],
   "source": [
    "h_tron=cg.get_coin_market_chart_range_by_id(id='tron', vs_currency='usd', from_timestamp =1483228800, to_timestamp=1692057600)\n",
    "h_tron_df = pd.DataFrame.from_dict(h_tron, orient='index')\n",
    "h_tron_df = h_tron_df.transpose()\n",
    "h_tron_df.head(2)"
   ]
  },
  {
   "cell_type": "markdown",
   "metadata": {},
   "source": [
    "*Polkadot*"
   ]
  },
  {
   "cell_type": "code",
   "execution_count": 19,
   "metadata": {},
   "outputs": [
    {
     "data": {
      "text/html": [
       "<div>\n",
       "<style scoped>\n",
       "    .dataframe tbody tr th:only-of-type {\n",
       "        vertical-align: middle;\n",
       "    }\n",
       "\n",
       "    .dataframe tbody tr th {\n",
       "        vertical-align: top;\n",
       "    }\n",
       "\n",
       "    .dataframe thead th {\n",
       "        text-align: right;\n",
       "    }\n",
       "</style>\n",
       "<table border=\"1\" class=\"dataframe\">\n",
       "  <thead>\n",
       "    <tr style=\"text-align: right;\">\n",
       "      <th></th>\n",
       "      <th>prices</th>\n",
       "      <th>market_caps</th>\n",
       "      <th>total_volumes</th>\n",
       "    </tr>\n",
       "  </thead>\n",
       "  <tbody>\n",
       "    <tr>\n",
       "      <th>0</th>\n",
       "      <td>[1597795200000, 2.9366649977840584]</td>\n",
       "      <td>[1597795200000, 0.0]</td>\n",
       "      <td>[1597795200000, 82413981.29681122]</td>\n",
       "    </tr>\n",
       "    <tr>\n",
       "      <th>1</th>\n",
       "      <td>[1597881600000, 2.9366649977840584]</td>\n",
       "      <td>[1597881600000, 0.0]</td>\n",
       "      <td>[1597881600000, 82413981.29681122]</td>\n",
       "    </tr>\n",
       "  </tbody>\n",
       "</table>\n",
       "</div>"
      ],
      "text/plain": [
       "                                prices           market_caps   \n",
       "0  [1597795200000, 2.9366649977840584]  [1597795200000, 0.0]  \\\n",
       "1  [1597881600000, 2.9366649977840584]  [1597881600000, 0.0]   \n",
       "\n",
       "                        total_volumes  \n",
       "0  [1597795200000, 82413981.29681122]  \n",
       "1  [1597881600000, 82413981.29681122]  "
      ]
     },
     "execution_count": 19,
     "metadata": {},
     "output_type": "execute_result"
    }
   ],
   "source": [
    "h_polkadot=cg.get_coin_market_chart_range_by_id(id='polkadot', vs_currency='usd', from_timestamp =1483228800, to_timestamp=1692057600)\n",
    "h_polkadot_df = pd.DataFrame.from_dict(h_polkadot, orient='index')\n",
    "h_polkadot_df = h_polkadot_df.transpose()\n",
    "h_polkadot_df.head(2)"
   ]
  },
  {
   "cell_type": "markdown",
   "metadata": {},
   "source": [
    "*Matic-network*"
   ]
  },
  {
   "cell_type": "code",
   "execution_count": 20,
   "metadata": {},
   "outputs": [
    {
     "data": {
      "text/html": [
       "<div>\n",
       "<style scoped>\n",
       "    .dataframe tbody tr th:only-of-type {\n",
       "        vertical-align: middle;\n",
       "    }\n",
       "\n",
       "    .dataframe tbody tr th {\n",
       "        vertical-align: top;\n",
       "    }\n",
       "\n",
       "    .dataframe thead th {\n",
       "        text-align: right;\n",
       "    }\n",
       "</style>\n",
       "<table border=\"1\" class=\"dataframe\">\n",
       "  <thead>\n",
       "    <tr style=\"text-align: right;\">\n",
       "      <th></th>\n",
       "      <th>prices</th>\n",
       "      <th>market_caps</th>\n",
       "      <th>total_volumes</th>\n",
       "    </tr>\n",
       "  </thead>\n",
       "  <tbody>\n",
       "    <tr>\n",
       "      <th>0</th>\n",
       "      <td>[1556323200000, 0.005470458299220707]</td>\n",
       "      <td>[1556323200000, 11597995.598585173]</td>\n",
       "      <td>[1556323200000, 43158348.3665803]</td>\n",
       "    </tr>\n",
       "    <tr>\n",
       "      <th>1</th>\n",
       "      <td>[1556409600000, 0.005207030741745718]</td>\n",
       "      <td>[1556409600000, 11038517.246430347]</td>\n",
       "      <td>[1556409600000, 9750768.053556936]</td>\n",
       "    </tr>\n",
       "  </tbody>\n",
       "</table>\n",
       "</div>"
      ],
      "text/plain": [
       "                                  prices                          market_caps   \n",
       "0  [1556323200000, 0.005470458299220707]  [1556323200000, 11597995.598585173]  \\\n",
       "1  [1556409600000, 0.005207030741745718]  [1556409600000, 11038517.246430347]   \n",
       "\n",
       "                        total_volumes  \n",
       "0   [1556323200000, 43158348.3665803]  \n",
       "1  [1556409600000, 9750768.053556936]  "
      ]
     },
     "execution_count": 20,
     "metadata": {},
     "output_type": "execute_result"
    }
   ],
   "source": [
    "h_matic_network=cg.get_coin_market_chart_range_by_id(id='matic-network', vs_currency='usd', from_timestamp =1483228800, to_timestamp=1692057600)\n",
    "h_matic_network_df = pd.DataFrame.from_dict(h_matic_network, orient='index')\n",
    "h_matic_network_df = h_matic_network_df.transpose()\n",
    "h_matic_network_df.head(2)"
   ]
  },
  {
   "cell_type": "markdown",
   "metadata": {},
   "source": [
    "*Shiba-inu*"
   ]
  },
  {
   "cell_type": "code",
   "execution_count": 21,
   "metadata": {},
   "outputs": [
    {
     "data": {
      "text/html": [
       "<div>\n",
       "<style scoped>\n",
       "    .dataframe tbody tr th:only-of-type {\n",
       "        vertical-align: middle;\n",
       "    }\n",
       "\n",
       "    .dataframe tbody tr th {\n",
       "        vertical-align: top;\n",
       "    }\n",
       "\n",
       "    .dataframe thead th {\n",
       "        text-align: right;\n",
       "    }\n",
       "</style>\n",
       "<table border=\"1\" class=\"dataframe\">\n",
       "  <thead>\n",
       "    <tr style=\"text-align: right;\">\n",
       "      <th></th>\n",
       "      <th>prices</th>\n",
       "      <th>market_caps</th>\n",
       "      <th>total_volumes</th>\n",
       "    </tr>\n",
       "  </thead>\n",
       "  <tbody>\n",
       "    <tr>\n",
       "      <th>0</th>\n",
       "      <td>[1596240000000, 9.722410112328183e-10]</td>\n",
       "      <td>[1596240000000, 0.0]</td>\n",
       "      <td>[1596240000000, 1426169.4322662805]</td>\n",
       "    </tr>\n",
       "    <tr>\n",
       "      <th>1</th>\n",
       "      <td>[1596326400000, 9.722410112328183e-10]</td>\n",
       "      <td>[1596326400000, 0.0]</td>\n",
       "      <td>[1596326400000, 1426169.4322662805]</td>\n",
       "    </tr>\n",
       "  </tbody>\n",
       "</table>\n",
       "</div>"
      ],
      "text/plain": [
       "                                   prices           market_caps   \n",
       "0  [1596240000000, 9.722410112328183e-10]  [1596240000000, 0.0]  \\\n",
       "1  [1596326400000, 9.722410112328183e-10]  [1596326400000, 0.0]   \n",
       "\n",
       "                         total_volumes  \n",
       "0  [1596240000000, 1426169.4322662805]  \n",
       "1  [1596326400000, 1426169.4322662805]  "
      ]
     },
     "execution_count": 21,
     "metadata": {},
     "output_type": "execute_result"
    }
   ],
   "source": [
    "h_shiba_inu=cg.get_coin_market_chart_range_by_id(id='shiba-inu', vs_currency='usd', from_timestamp =1483228800, to_timestamp=1692057600)\n",
    "h_shiba_inu_df = pd.DataFrame.from_dict(h_shiba_inu, orient='index')\n",
    "h_shiba_inu_df = h_shiba_inu_df.transpose()\n",
    "h_shiba_inu_df.head(2)"
   ]
  },
  {
   "cell_type": "markdown",
   "metadata": {},
   "source": [
    "*Litecoin*"
   ]
  },
  {
   "cell_type": "code",
   "execution_count": 22,
   "metadata": {},
   "outputs": [
    {
     "data": {
      "text/html": [
       "<div>\n",
       "<style scoped>\n",
       "    .dataframe tbody tr th:only-of-type {\n",
       "        vertical-align: middle;\n",
       "    }\n",
       "\n",
       "    .dataframe tbody tr th {\n",
       "        vertical-align: top;\n",
       "    }\n",
       "\n",
       "    .dataframe thead th {\n",
       "        text-align: right;\n",
       "    }\n",
       "</style>\n",
       "<table border=\"1\" class=\"dataframe\">\n",
       "  <thead>\n",
       "    <tr style=\"text-align: right;\">\n",
       "      <th></th>\n",
       "      <th>prices</th>\n",
       "      <th>market_caps</th>\n",
       "      <th>total_volumes</th>\n",
       "    </tr>\n",
       "  </thead>\n",
       "  <tbody>\n",
       "    <tr>\n",
       "      <th>0</th>\n",
       "      <td>[1483228800000, 4.503138670027047]</td>\n",
       "      <td>[1483228800000, 221302264.8123639]</td>\n",
       "      <td>[1483228800000, 427541120.7355117]</td>\n",
       "    </tr>\n",
       "    <tr>\n",
       "      <th>1</th>\n",
       "      <td>[1483315200000, 4.580076938641901]</td>\n",
       "      <td>[1483315200000, 225149387.00276527]</td>\n",
       "      <td>[1483315200000, 593716097.6614419]</td>\n",
       "    </tr>\n",
       "  </tbody>\n",
       "</table>\n",
       "</div>"
      ],
      "text/plain": [
       "                               prices                          market_caps   \n",
       "0  [1483228800000, 4.503138670027047]   [1483228800000, 221302264.8123639]  \\\n",
       "1  [1483315200000, 4.580076938641901]  [1483315200000, 225149387.00276527]   \n",
       "\n",
       "                        total_volumes  \n",
       "0  [1483228800000, 427541120.7355117]  \n",
       "1  [1483315200000, 593716097.6614419]  "
      ]
     },
     "execution_count": 22,
     "metadata": {},
     "output_type": "execute_result"
    }
   ],
   "source": [
    "h_litecoin=cg.get_coin_market_chart_range_by_id(id='litecoin', vs_currency='usd', from_timestamp =1483228800, to_timestamp=1692057600)\n",
    "h_litecoin_df = pd.DataFrame.from_dict(h_litecoin, orient='index')\n",
    "h_litecoin_df = h_litecoin_df.transpose()\n",
    "h_litecoin_df.head(2)"
   ]
  },
  {
   "cell_type": "markdown",
   "metadata": {},
   "source": [
    "7. Optamos por convertir el valor None por [0,0] para que los datos tengan el mismo tamaño y poder realizar el siguiente paso."
   ]
  },
  {
   "cell_type": "code",
   "execution_count": 23,
   "metadata": {},
   "outputs": [],
   "source": [
    "h_bitcoin_df = h_bitcoin_df.applymap(lambda x: [0, 0] if x is None else x)\n",
    "h_ethereum_df = h_ethereum_df.applymap(lambda x: [0, 0] if x is None else x)\n",
    "h_tether_df = h_tether_df.applymap(lambda x: [0, 0] if x is None else x)\n",
    "h_binancecoin_df = h_binancecoin_df.applymap(lambda x: [0, 0] if x is None else x)\n",
    "h_ripple_df = h_ripple_df.applymap(lambda x: [0, 0] if x is None else x)\n",
    "h_usd_coin_df = h_usd_coin_df.applymap(lambda x: [0, 0] if x is None else x)\n",
    "h_staked_ether_df = h_staked_ether_df.applymap(lambda x: [0, 0] if x is None else x)\n",
    "h_cardano_df = h_cardano_df.applymap(lambda x: [0, 0] if x is None else x)\n",
    "h_dogecoin_df = h_dogecoin_df.applymap(lambda x: [0, 0] if x is None else x)\n",
    "h_solana_df = h_solana_df.applymap(lambda x: [0, 0] if x is None else x)\n",
    "h_tron_df = h_tron_df.applymap(lambda x: [0, 0] if x is None else x)\n",
    "h_polkadot_df = h_polkadot_df.applymap(lambda x: [0, 0] if x is None else x)\n",
    "h_matic_network_df = h_matic_network_df.applymap(lambda x: [0, 0] if x is None else x)\n",
    "h_shiba_inu_df = h_shiba_inu_df.applymap(lambda x: [0, 0] if x is None else x)\n",
    "h_litecoin_df = h_litecoin_df.applymap(lambda x: [0, 0] if x is None else x)"
   ]
  },
  {
   "cell_type": "markdown",
   "metadata": {},
   "source": [
    "8. Separamos los datos de las columnas, teniendo las siguientes: \"timestamp\", \"price_value\", \"market_cap_value\" y \"volume_value\".\n",
    "\n",
    "El dataframe nos da los valores en formato lista, en donde está la fecha como primer elemento y el dato en sí como segundo elemento.\n",
    "\n",
    "Extraeremos la fecha del pimer valor ya que en las siguientes columnas, aparece el dato None, el cual reemplazamos como valor [0,0]."
   ]
  },
  {
   "cell_type": "markdown",
   "metadata": {},
   "source": [
    "*Bitcoin*"
   ]
  },
  {
   "cell_type": "code",
   "execution_count": 24,
   "metadata": {},
   "outputs": [],
   "source": [
    "h_bitcoin_df['timestamp'] = h_bitcoin_df['prices'].apply(lambda x: x[0])\n",
    "h_bitcoin_df['price_value'] = h_bitcoin_df['prices'].apply(lambda x: x[1])\n",
    "h_bitcoin_df['market_cap_value'] = h_bitcoin_df['market_caps'].apply(lambda x: x[1])\n",
    "h_bitcoin_df['volume_value'] = h_bitcoin_df['total_volumes'].apply(lambda x: x[1])"
   ]
  },
  {
   "cell_type": "markdown",
   "metadata": {},
   "source": [
    "*Ethereum*"
   ]
  },
  {
   "cell_type": "code",
   "execution_count": 25,
   "metadata": {},
   "outputs": [],
   "source": [
    "h_ethereum_df['timestamp'] = h_ethereum_df['prices'].apply(lambda x: x[0])\n",
    "h_ethereum_df['price_value'] = h_ethereum_df['prices'].apply(lambda x: x[1])\n",
    "h_ethereum_df['market_cap_value'] = h_ethereum_df['market_caps'].apply(lambda x: x[1])\n",
    "h_ethereum_df['volume_value'] = h_ethereum_df['total_volumes'].apply(lambda x: x[1])"
   ]
  },
  {
   "cell_type": "markdown",
   "metadata": {},
   "source": [
    "*Tether*"
   ]
  },
  {
   "cell_type": "code",
   "execution_count": 26,
   "metadata": {},
   "outputs": [],
   "source": [
    "h_tether_df['timestamp'] = h_tether_df['prices'].apply(lambda x: x[0])\n",
    "h_tether_df['price_value'] = h_tether_df['prices'].apply(lambda x: x[1])\n",
    "h_tether_df['market_cap_value'] = h_tether_df['market_caps'].apply(lambda x: x[1])\n",
    "h_tether_df['volume_value'] = h_tether_df['total_volumes'].apply(lambda x: x[1])"
   ]
  },
  {
   "cell_type": "markdown",
   "metadata": {},
   "source": [
    "*Binancecoin*"
   ]
  },
  {
   "cell_type": "code",
   "execution_count": 27,
   "metadata": {},
   "outputs": [],
   "source": [
    "h_binancecoin_df['timestamp'] = h_binancecoin_df['prices'].apply(lambda x: x[0])\n",
    "h_binancecoin_df['price_value'] = h_binancecoin_df['prices'].apply(lambda x: x[1])\n",
    "h_binancecoin_df['market_cap_value'] = h_binancecoin_df['market_caps'].apply(lambda x: x[1])\n",
    "h_binancecoin_df['volume_value'] = h_binancecoin_df['total_volumes'].apply(lambda x: x[1])"
   ]
  },
  {
   "cell_type": "markdown",
   "metadata": {},
   "source": [
    "*Ripple*"
   ]
  },
  {
   "cell_type": "code",
   "execution_count": 28,
   "metadata": {},
   "outputs": [],
   "source": [
    "h_ripple_df['timestamp'] = h_ripple_df['prices'].apply(lambda x: x[0])\n",
    "h_ripple_df['price_value'] = h_ripple_df['prices'].apply(lambda x: x[1])\n",
    "h_ripple_df['market_cap_value'] = h_ripple_df['market_caps'].apply(lambda x: x[1])\n",
    "h_ripple_df['volume_value'] = h_ripple_df['total_volumes'].apply(lambda x: x[1])"
   ]
  },
  {
   "cell_type": "markdown",
   "metadata": {},
   "source": [
    "*Usd-coin*"
   ]
  },
  {
   "cell_type": "code",
   "execution_count": 29,
   "metadata": {},
   "outputs": [],
   "source": [
    "h_usd_coin_df['timestamp'] = h_usd_coin_df['prices'].apply(lambda x: x[0])\n",
    "h_usd_coin_df['price_value'] = h_usd_coin_df['prices'].apply(lambda x: x[1])\n",
    "h_usd_coin_df['market_cap_value'] = h_usd_coin_df['market_caps'].apply(lambda x: x[1])\n",
    "h_usd_coin_df['volume_value'] = h_usd_coin_df['total_volumes'].apply(lambda x: x[1])"
   ]
  },
  {
   "cell_type": "markdown",
   "metadata": {},
   "source": [
    "*Staked-ether*"
   ]
  },
  {
   "cell_type": "code",
   "execution_count": 30,
   "metadata": {},
   "outputs": [],
   "source": [
    "h_staked_ether_df['timestamp'] = h_staked_ether_df['prices'].apply(lambda x: x[0])\n",
    "h_staked_ether_df['price_value'] = h_staked_ether_df['prices'].apply(lambda x: x[1])\n",
    "h_staked_ether_df['market_cap_value'] = h_staked_ether_df['market_caps'].apply(lambda x: x[1])\n",
    "h_staked_ether_df['volume_value'] = h_staked_ether_df['total_volumes'].apply(lambda x: x[1])"
   ]
  },
  {
   "cell_type": "markdown",
   "metadata": {},
   "source": [
    "*Cardano*"
   ]
  },
  {
   "cell_type": "code",
   "execution_count": 31,
   "metadata": {},
   "outputs": [],
   "source": [
    "h_cardano_df['timestamp'] = h_cardano_df['prices'].apply(lambda x: x[0])\n",
    "h_cardano_df['price_value'] = h_cardano_df['prices'].apply(lambda x: x[1])\n",
    "h_cardano_df['market_cap_value'] = h_cardano_df['market_caps'].apply(lambda x: x[1])\n",
    "h_cardano_df['volume_value'] = h_cardano_df['total_volumes'].apply(lambda x: x[1])"
   ]
  },
  {
   "cell_type": "markdown",
   "metadata": {},
   "source": [
    "*Dogecoin*"
   ]
  },
  {
   "cell_type": "code",
   "execution_count": 32,
   "metadata": {},
   "outputs": [],
   "source": [
    "h_dogecoin_df['timestamp'] = h_dogecoin_df['prices'].apply(lambda x: x[0])\n",
    "h_dogecoin_df['price_value'] = h_dogecoin_df['prices'].apply(lambda x: x[1])\n",
    "h_dogecoin_df['market_cap_value'] = h_dogecoin_df['market_caps'].apply(lambda x: x[1])\n",
    "h_dogecoin_df['volume_value'] = h_dogecoin_df['total_volumes'].apply(lambda x: x[1])"
   ]
  },
  {
   "cell_type": "markdown",
   "metadata": {},
   "source": [
    "*Solana*"
   ]
  },
  {
   "cell_type": "code",
   "execution_count": 33,
   "metadata": {},
   "outputs": [],
   "source": [
    "h_solana_df['timestamp'] = h_solana_df['prices'].apply(lambda x: x[0])\n",
    "h_solana_df['price_value'] = h_solana_df['prices'].apply(lambda x: x[1])\n",
    "h_solana_df['market_cap_value'] = h_solana_df['market_caps'].apply(lambda x: x[1])\n",
    "h_solana_df['volume_value'] = h_solana_df['total_volumes'].apply(lambda x: x[1])"
   ]
  },
  {
   "cell_type": "markdown",
   "metadata": {},
   "source": [
    "*Tron*"
   ]
  },
  {
   "cell_type": "code",
   "execution_count": 34,
   "metadata": {},
   "outputs": [],
   "source": [
    "h_tron_df['timestamp'] = h_tron_df['prices'].apply(lambda x: x[0])\n",
    "h_tron_df['price_value'] = h_tron_df['prices'].apply(lambda x: x[1])\n",
    "h_tron_df['market_cap_value'] = h_tron_df['market_caps'].apply(lambda x: x[1])\n",
    "h_tron_df['volume_value'] = h_tron_df['total_volumes'].apply(lambda x: x[1])"
   ]
  },
  {
   "cell_type": "markdown",
   "metadata": {},
   "source": [
    "*Polkadot*"
   ]
  },
  {
   "cell_type": "code",
   "execution_count": 35,
   "metadata": {},
   "outputs": [],
   "source": [
    "h_polkadot_df['timestamp'] = h_polkadot_df['prices'].apply(lambda x: x[0])\n",
    "h_polkadot_df['price_value'] = h_polkadot_df['prices'].apply(lambda x: x[1])\n",
    "h_polkadot_df['market_cap_value'] = h_polkadot_df['market_caps'].apply(lambda x: x[1])\n",
    "h_polkadot_df['volume_value'] = h_polkadot_df['total_volumes'].apply(lambda x: x[1])"
   ]
  },
  {
   "cell_type": "markdown",
   "metadata": {},
   "source": [
    "*Matic-network*"
   ]
  },
  {
   "cell_type": "code",
   "execution_count": 36,
   "metadata": {},
   "outputs": [],
   "source": [
    "h_matic_network_df['timestamp'] = h_matic_network_df['prices'].apply(lambda x: x[0])\n",
    "h_matic_network_df['price_value'] = h_matic_network_df['prices'].apply(lambda x: x[1])\n",
    "h_matic_network_df['market_cap_value'] = h_matic_network_df['market_caps'].apply(lambda x: x[1])\n",
    "h_matic_network_df['volume_value'] = h_matic_network_df['total_volumes'].apply(lambda x: x[1])"
   ]
  },
  {
   "cell_type": "markdown",
   "metadata": {},
   "source": [
    "*Shiba-inu*"
   ]
  },
  {
   "cell_type": "code",
   "execution_count": 37,
   "metadata": {},
   "outputs": [],
   "source": [
    "h_shiba_inu_df['timestamp'] = h_shiba_inu_df['prices'].apply(lambda x: x[0])\n",
    "h_shiba_inu_df['price_value'] = h_shiba_inu_df['prices'].apply(lambda x: x[1])\n",
    "h_shiba_inu_df['market_cap_value'] = h_shiba_inu_df['market_caps'].apply(lambda x: x[1])\n",
    "h_shiba_inu_df['volume_value'] = h_shiba_inu_df['total_volumes'].apply(lambda x: x[1])"
   ]
  },
  {
   "cell_type": "markdown",
   "metadata": {},
   "source": [
    "*Litecoin*"
   ]
  },
  {
   "cell_type": "code",
   "execution_count": 38,
   "metadata": {},
   "outputs": [],
   "source": [
    "h_litecoin_df['timestamp'] = h_litecoin_df['prices'].apply(lambda x: x[0])\n",
    "h_litecoin_df['price_value'] = h_litecoin_df['prices'].apply(lambda x: x[1])\n",
    "h_litecoin_df['market_cap_value'] = h_litecoin_df['market_caps'].apply(lambda x: x[1])\n",
    "h_litecoin_df['volume_value'] = h_litecoin_df['total_volumes'].apply(lambda x: x[1])"
   ]
  },
  {
   "cell_type": "markdown",
   "metadata": {},
   "source": [
    "9. Eliminamos las columnas originales del dataframe."
   ]
  },
  {
   "cell_type": "code",
   "execution_count": 39,
   "metadata": {},
   "outputs": [],
   "source": [
    "h_bitcoin_df = h_bitcoin_df.drop(columns=['prices', 'market_caps', 'total_volumes'])\n",
    "h_ethereum_df = h_ethereum_df.drop(columns=['prices', 'market_caps', 'total_volumes'])\n",
    "h_tether_df = h_tether_df.drop(columns=['prices', 'market_caps', 'total_volumes'])\n",
    "h_binancecoin_df = h_binancecoin_df.drop(columns=['prices', 'market_caps', 'total_volumes'])\n",
    "h_ripple_df = h_ripple_df.drop(columns=['prices', 'market_caps', 'total_volumes'])\n",
    "h_usd_coin_df = h_usd_coin_df.drop(columns=['prices', 'market_caps', 'total_volumes'])\n",
    "h_staked_ether_df = h_staked_ether_df.drop(columns=['prices', 'market_caps', 'total_volumes'])\n",
    "h_cardano_df = h_cardano_df.drop(columns=['prices', 'market_caps', 'total_volumes'])\n",
    "h_dogecoin_df = h_dogecoin_df.drop(columns=['prices', 'market_caps', 'total_volumes'])\n",
    "h_solana_df = h_solana_df.drop(columns=['prices', 'market_caps', 'total_volumes'])\n",
    "h_tron_df = h_tron_df.drop(columns=['prices', 'market_caps', 'total_volumes'])\n",
    "h_polkadot_df = h_polkadot_df.drop(columns=['prices', 'market_caps', 'total_volumes'])\n",
    "h_matic_network_df = h_matic_network_df.drop(columns=['prices', 'market_caps', 'total_volumes'])\n",
    "h_shiba_inu_df = h_shiba_inu_df.drop(columns=['prices', 'market_caps', 'total_volumes'])\n",
    "h_litecoin_df = h_litecoin_df.drop(columns=['prices', 'market_caps', 'total_volumes'])"
   ]
  },
  {
   "cell_type": "markdown",
   "metadata": {},
   "source": [
    "10. Realizamos una función para que convierta el formato UNIX de la fecha en un formato datetime."
   ]
  },
  {
   "cell_type": "code",
   "execution_count": 40,
   "metadata": {},
   "outputs": [],
   "source": [
    "def convert_unix_to_date(timestamp):\n",
    "    try:\n",
    "        timestamp = int(str(timestamp)[:-3])  # Eliminar los últimos 4 dígitos y convertir a entero\n",
    "        return datetime.utcfromtimestamp(timestamp)\n",
    "    except (OSError, ValueError):\n",
    "        return 0"
   ]
  },
  {
   "cell_type": "markdown",
   "metadata": {},
   "source": [
    "11. Aplicamos la función en el dataframe"
   ]
  },
  {
   "cell_type": "code",
   "execution_count": 41,
   "metadata": {},
   "outputs": [],
   "source": [
    "h_bitcoin_df['date']=h_bitcoin_df['timestamp'].apply(convert_unix_to_date)\n",
    "h_ethereum_df['date'] = h_ethereum_df['timestamp'].apply(convert_unix_to_date)\n",
    "h_tether_df['date'] = h_tether_df['timestamp'].apply(convert_unix_to_date)\n",
    "h_binancecoin_df['date'] = h_binancecoin_df['timestamp'].apply(convert_unix_to_date)\n",
    "h_ripple_df['date'] = h_ripple_df['timestamp'].apply(convert_unix_to_date)\n",
    "h_usd_coin_df['date'] = h_usd_coin_df['timestamp'].apply(convert_unix_to_date)\n",
    "h_staked_ether_df['date'] = h_staked_ether_df['timestamp'].apply(convert_unix_to_date)\n",
    "h_cardano_df['date'] = h_cardano_df['timestamp'].apply(convert_unix_to_date)\n",
    "h_dogecoin_df['date'] = h_dogecoin_df['timestamp'].apply(convert_unix_to_date)\n",
    "h_solana_df['date'] = h_solana_df['timestamp'].apply(convert_unix_to_date)\n",
    "h_tron_df['date'] = h_tron_df['timestamp'].apply(convert_unix_to_date)\n",
    "h_polkadot_df['date'] = h_polkadot_df['timestamp'].apply(convert_unix_to_date)\n",
    "h_matic_network_df['date'] = h_matic_network_df['timestamp'].apply(convert_unix_to_date)\n",
    "h_shiba_inu_df['date'] = h_shiba_inu_df['timestamp'].apply(convert_unix_to_date)\n",
    "h_litecoin_df['date'] = h_litecoin_df['timestamp'].apply(convert_unix_to_date)"
   ]
  },
  {
   "cell_type": "markdown",
   "metadata": {},
   "source": [
    "12. Eliminamos la columna timestamp de los dataframes"
   ]
  },
  {
   "cell_type": "code",
   "execution_count": 42,
   "metadata": {},
   "outputs": [],
   "source": [
    "h_bitcoin_df=h_bitcoin_df.drop(columns=['timestamp'])\n",
    "h_ethereum_df=h_ethereum_df.drop(columns=['timestamp'])\n",
    "h_tether_df = h_tether_df.drop(columns=['timestamp'])\n",
    "h_binancecoin_df = h_binancecoin_df.drop(columns=['timestamp'])\n",
    "h_ripple_df = h_ripple_df.drop(columns=['timestamp'])\n",
    "h_usd_coin_df = h_usd_coin_df.drop(columns=['timestamp'])\n",
    "h_staked_ether_df = h_staked_ether_df.drop(columns=['timestamp'])\n",
    "h_cardano_df = h_cardano_df.drop(columns=['timestamp'])\n",
    "h_dogecoin_df = h_dogecoin_df.drop(columns=['timestamp'])\n",
    "h_solana_df = h_solana_df.drop(columns=['timestamp'])\n",
    "h_tron_df = h_tron_df.drop(columns=['timestamp'])\n",
    "h_polkadot_df = h_polkadot_df.drop(columns=['timestamp'])\n",
    "h_matic_network_df = h_matic_network_df.drop(columns=['timestamp'])\n",
    "h_shiba_inu_df = h_shiba_inu_df.drop(columns=['timestamp'])\n",
    "h_litecoin_df = h_litecoin_df.drop(columns=['timestamp'])"
   ]
  },
  {
   "cell_type": "markdown",
   "metadata": {},
   "source": [
    "13. Agregamos una columna con los id's de cada moneda para próximamente realizar relaciones en SQL"
   ]
  },
  {
   "cell_type": "code",
   "execution_count": 43,
   "metadata": {},
   "outputs": [],
   "source": [
    "h_bitcoin_df['id']='bitcoin'\n",
    "h_ethereum_df['id']='ethereum'\n",
    "h_tether_df['id']='tether'\n",
    "h_binancecoin_df['id']='binancecoin'\n",
    "h_ripple_df['id']='ripple'\n",
    "h_usd_coin_df['id']='usd-coin'\n",
    "h_staked_ether_df['id']='staked-ether'\n",
    "h_cardano_df['id']='cardano'\n",
    "h_dogecoin_df['id']='dogecoin'\n",
    "h_solana_df['id']='solana'\n",
    "h_tron_df['id']='tron'\n",
    "h_polkadot_df['id']='polkadot'\n",
    "h_matic_network_df['id']='matic-network'\n",
    "h_shiba_inu_df['id']='shiba-inu'\n",
    "h_litecoin_df['id']='litecoin'\n"
   ]
  },
  {
   "cell_type": "markdown",
   "metadata": {},
   "source": [
    "14. Observamos si nuestros dataframes están completos"
   ]
  },
  {
   "cell_type": "code",
   "execution_count": 44,
   "metadata": {},
   "outputs": [
    {
     "data": {
      "text/html": [
       "<div>\n",
       "<style scoped>\n",
       "    .dataframe tbody tr th:only-of-type {\n",
       "        vertical-align: middle;\n",
       "    }\n",
       "\n",
       "    .dataframe tbody tr th {\n",
       "        vertical-align: top;\n",
       "    }\n",
       "\n",
       "    .dataframe thead th {\n",
       "        text-align: right;\n",
       "    }\n",
       "</style>\n",
       "<table border=\"1\" class=\"dataframe\">\n",
       "  <thead>\n",
       "    <tr style=\"text-align: right;\">\n",
       "      <th></th>\n",
       "      <th>price_value</th>\n",
       "      <th>market_cap_value</th>\n",
       "      <th>volume_value</th>\n",
       "      <th>date</th>\n",
       "      <th>id</th>\n",
       "    </tr>\n",
       "  </thead>\n",
       "  <tbody>\n",
       "    <tr>\n",
       "      <th>0</th>\n",
       "      <td>135.30</td>\n",
       "      <td>1.500518e+09</td>\n",
       "      <td>0.0</td>\n",
       "      <td>2013-04-28</td>\n",
       "      <td>bitcoin</td>\n",
       "    </tr>\n",
       "    <tr>\n",
       "      <th>1</th>\n",
       "      <td>141.96</td>\n",
       "      <td>1.575032e+09</td>\n",
       "      <td>0.0</td>\n",
       "      <td>2013-04-29</td>\n",
       "      <td>bitcoin</td>\n",
       "    </tr>\n",
       "  </tbody>\n",
       "</table>\n",
       "</div>"
      ],
      "text/plain": [
       "   price_value  market_cap_value  volume_value       date       id\n",
       "0       135.30      1.500518e+09           0.0 2013-04-28  bitcoin\n",
       "1       141.96      1.575032e+09           0.0 2013-04-29  bitcoin"
      ]
     },
     "execution_count": 44,
     "metadata": {},
     "output_type": "execute_result"
    }
   ],
   "source": [
    "h_bitcoin_df.head(2)"
   ]
  },
  {
   "cell_type": "code",
   "execution_count": 45,
   "metadata": {},
   "outputs": [
    {
     "data": {
      "text/html": [
       "<div>\n",
       "<style scoped>\n",
       "    .dataframe tbody tr th:only-of-type {\n",
       "        vertical-align: middle;\n",
       "    }\n",
       "\n",
       "    .dataframe tbody tr th {\n",
       "        vertical-align: top;\n",
       "    }\n",
       "\n",
       "    .dataframe thead th {\n",
       "        text-align: right;\n",
       "    }\n",
       "</style>\n",
       "<table border=\"1\" class=\"dataframe\">\n",
       "  <thead>\n",
       "    <tr style=\"text-align: right;\">\n",
       "      <th></th>\n",
       "      <th>price_value</th>\n",
       "      <th>market_cap_value</th>\n",
       "      <th>volume_value</th>\n",
       "      <th>date</th>\n",
       "      <th>id</th>\n",
       "    </tr>\n",
       "  </thead>\n",
       "  <tbody>\n",
       "    <tr>\n",
       "      <th>0</th>\n",
       "      <td>8.064790</td>\n",
       "      <td>7.056152e+08</td>\n",
       "      <td>7.811699e+06</td>\n",
       "      <td>2017-01-01</td>\n",
       "      <td>ethereum</td>\n",
       "    </tr>\n",
       "    <tr>\n",
       "      <th>1</th>\n",
       "      <td>8.361286</td>\n",
       "      <td>7.318175e+08</td>\n",
       "      <td>8.192075e+06</td>\n",
       "      <td>2017-01-02</td>\n",
       "      <td>ethereum</td>\n",
       "    </tr>\n",
       "  </tbody>\n",
       "</table>\n",
       "</div>"
      ],
      "text/plain": [
       "   price_value  market_cap_value  volume_value       date        id\n",
       "0     8.064790      7.056152e+08  7.811699e+06 2017-01-01  ethereum\n",
       "1     8.361286      7.318175e+08  8.192075e+06 2017-01-02  ethereum"
      ]
     },
     "execution_count": 45,
     "metadata": {},
     "output_type": "execute_result"
    }
   ],
   "source": [
    "h_ethereum_df.head(2)"
   ]
  },
  {
   "cell_type": "code",
   "execution_count": 46,
   "metadata": {},
   "outputs": [
    {
     "data": {
      "text/html": [
       "<div>\n",
       "<style scoped>\n",
       "    .dataframe tbody tr th:only-of-type {\n",
       "        vertical-align: middle;\n",
       "    }\n",
       "\n",
       "    .dataframe tbody tr th {\n",
       "        vertical-align: top;\n",
       "    }\n",
       "\n",
       "    .dataframe thead th {\n",
       "        text-align: right;\n",
       "    }\n",
       "</style>\n",
       "<table border=\"1\" class=\"dataframe\">\n",
       "  <thead>\n",
       "    <tr style=\"text-align: right;\">\n",
       "      <th></th>\n",
       "      <th>price_value</th>\n",
       "      <th>market_cap_value</th>\n",
       "      <th>volume_value</th>\n",
       "      <th>date</th>\n",
       "      <th>id</th>\n",
       "    </tr>\n",
       "  </thead>\n",
       "  <tbody>\n",
       "    <tr>\n",
       "      <th>0</th>\n",
       "      <td>1.0</td>\n",
       "      <td>9951590.0</td>\n",
       "      <td>1914630.0</td>\n",
       "      <td>2017-01-01</td>\n",
       "      <td>tether</td>\n",
       "    </tr>\n",
       "    <tr>\n",
       "      <th>1</th>\n",
       "      <td>1.0</td>\n",
       "      <td>9951590.0</td>\n",
       "      <td>3179490.0</td>\n",
       "      <td>2017-01-02</td>\n",
       "      <td>tether</td>\n",
       "    </tr>\n",
       "  </tbody>\n",
       "</table>\n",
       "</div>"
      ],
      "text/plain": [
       "   price_value  market_cap_value  volume_value       date      id\n",
       "0          1.0         9951590.0     1914630.0 2017-01-01  tether\n",
       "1          1.0         9951590.0     3179490.0 2017-01-02  tether"
      ]
     },
     "execution_count": 46,
     "metadata": {},
     "output_type": "execute_result"
    }
   ],
   "source": [
    "h_tether_df.head(2)"
   ]
  },
  {
   "cell_type": "code",
   "execution_count": 47,
   "metadata": {},
   "outputs": [
    {
     "data": {
      "text/html": [
       "<div>\n",
       "<style scoped>\n",
       "    .dataframe tbody tr th:only-of-type {\n",
       "        vertical-align: middle;\n",
       "    }\n",
       "\n",
       "    .dataframe tbody tr th {\n",
       "        vertical-align: top;\n",
       "    }\n",
       "\n",
       "    .dataframe thead th {\n",
       "        text-align: right;\n",
       "    }\n",
       "</style>\n",
       "<table border=\"1\" class=\"dataframe\">\n",
       "  <thead>\n",
       "    <tr style=\"text-align: right;\">\n",
       "      <th></th>\n",
       "      <th>price_value</th>\n",
       "      <th>market_cap_value</th>\n",
       "      <th>volume_value</th>\n",
       "      <th>date</th>\n",
       "      <th>id</th>\n",
       "    </tr>\n",
       "  </thead>\n",
       "  <tbody>\n",
       "    <tr>\n",
       "      <th>0</th>\n",
       "      <td>0.107251</td>\n",
       "      <td>1.072506e+07</td>\n",
       "      <td>1.051223</td>\n",
       "      <td>2017-09-16</td>\n",
       "      <td>binancecoin</td>\n",
       "    </tr>\n",
       "    <tr>\n",
       "      <th>1</th>\n",
       "      <td>0.154041</td>\n",
       "      <td>1.540413e+07</td>\n",
       "      <td>14.678587</td>\n",
       "      <td>2017-09-17</td>\n",
       "      <td>binancecoin</td>\n",
       "    </tr>\n",
       "  </tbody>\n",
       "</table>\n",
       "</div>"
      ],
      "text/plain": [
       "   price_value  market_cap_value  volume_value       date           id\n",
       "0     0.107251      1.072506e+07      1.051223 2017-09-16  binancecoin\n",
       "1     0.154041      1.540413e+07     14.678587 2017-09-17  binancecoin"
      ]
     },
     "execution_count": 47,
     "metadata": {},
     "output_type": "execute_result"
    }
   ],
   "source": [
    "h_binancecoin_df.head(2)"
   ]
  },
  {
   "cell_type": "code",
   "execution_count": 48,
   "metadata": {},
   "outputs": [
    {
     "data": {
      "text/html": [
       "<div>\n",
       "<style scoped>\n",
       "    .dataframe tbody tr th:only-of-type {\n",
       "        vertical-align: middle;\n",
       "    }\n",
       "\n",
       "    .dataframe tbody tr th {\n",
       "        vertical-align: top;\n",
       "    }\n",
       "\n",
       "    .dataframe thead th {\n",
       "        text-align: right;\n",
       "    }\n",
       "</style>\n",
       "<table border=\"1\" class=\"dataframe\">\n",
       "  <thead>\n",
       "    <tr style=\"text-align: right;\">\n",
       "      <th></th>\n",
       "      <th>price_value</th>\n",
       "      <th>market_cap_value</th>\n",
       "      <th>volume_value</th>\n",
       "      <th>date</th>\n",
       "      <th>id</th>\n",
       "    </tr>\n",
       "  </thead>\n",
       "  <tbody>\n",
       "    <tr>\n",
       "      <th>0</th>\n",
       "      <td>0.006376</td>\n",
       "      <td>2.316866e+08</td>\n",
       "      <td>418493.0</td>\n",
       "      <td>2017-01-01</td>\n",
       "      <td>ripple</td>\n",
       "    </tr>\n",
       "    <tr>\n",
       "      <th>1</th>\n",
       "      <td>0.006309</td>\n",
       "      <td>2.292520e+08</td>\n",
       "      <td>1047280.0</td>\n",
       "      <td>2017-01-02</td>\n",
       "      <td>ripple</td>\n",
       "    </tr>\n",
       "  </tbody>\n",
       "</table>\n",
       "</div>"
      ],
      "text/plain": [
       "   price_value  market_cap_value  volume_value       date      id\n",
       "0     0.006376      2.316866e+08      418493.0 2017-01-01  ripple\n",
       "1     0.006309      2.292520e+08     1047280.0 2017-01-02  ripple"
      ]
     },
     "execution_count": 48,
     "metadata": {},
     "output_type": "execute_result"
    }
   ],
   "source": [
    "h_ripple_df.head(2)"
   ]
  },
  {
   "cell_type": "code",
   "execution_count": 49,
   "metadata": {},
   "outputs": [
    {
     "data": {
      "text/html": [
       "<div>\n",
       "<style scoped>\n",
       "    .dataframe tbody tr th:only-of-type {\n",
       "        vertical-align: middle;\n",
       "    }\n",
       "\n",
       "    .dataframe tbody tr th {\n",
       "        vertical-align: top;\n",
       "    }\n",
       "\n",
       "    .dataframe thead th {\n",
       "        text-align: right;\n",
       "    }\n",
       "</style>\n",
       "<table border=\"1\" class=\"dataframe\">\n",
       "  <thead>\n",
       "    <tr style=\"text-align: right;\">\n",
       "      <th></th>\n",
       "      <th>price_value</th>\n",
       "      <th>market_cap_value</th>\n",
       "      <th>volume_value</th>\n",
       "      <th>date</th>\n",
       "      <th>id</th>\n",
       "    </tr>\n",
       "  </thead>\n",
       "  <tbody>\n",
       "    <tr>\n",
       "      <th>0</th>\n",
       "      <td>1.006242</td>\n",
       "      <td>0.0</td>\n",
       "      <td>31264.420430</td>\n",
       "      <td>2018-10-05</td>\n",
       "      <td>usd-coin</td>\n",
       "    </tr>\n",
       "    <tr>\n",
       "      <th>1</th>\n",
       "      <td>1.001530</td>\n",
       "      <td>0.0</td>\n",
       "      <td>20254.712255</td>\n",
       "      <td>2018-10-06</td>\n",
       "      <td>usd-coin</td>\n",
       "    </tr>\n",
       "  </tbody>\n",
       "</table>\n",
       "</div>"
      ],
      "text/plain": [
       "   price_value  market_cap_value  volume_value       date        id\n",
       "0     1.006242               0.0  31264.420430 2018-10-05  usd-coin\n",
       "1     1.001530               0.0  20254.712255 2018-10-06  usd-coin"
      ]
     },
     "execution_count": 49,
     "metadata": {},
     "output_type": "execute_result"
    }
   ],
   "source": [
    "h_usd_coin_df.head(2)"
   ]
  },
  {
   "cell_type": "code",
   "execution_count": 50,
   "metadata": {},
   "outputs": [
    {
     "data": {
      "text/html": [
       "<div>\n",
       "<style scoped>\n",
       "    .dataframe tbody tr th:only-of-type {\n",
       "        vertical-align: middle;\n",
       "    }\n",
       "\n",
       "    .dataframe tbody tr th {\n",
       "        vertical-align: top;\n",
       "    }\n",
       "\n",
       "    .dataframe thead th {\n",
       "        text-align: right;\n",
       "    }\n",
       "</style>\n",
       "<table border=\"1\" class=\"dataframe\">\n",
       "  <thead>\n",
       "    <tr style=\"text-align: right;\">\n",
       "      <th></th>\n",
       "      <th>price_value</th>\n",
       "      <th>market_cap_value</th>\n",
       "      <th>volume_value</th>\n",
       "      <th>date</th>\n",
       "      <th>id</th>\n",
       "    </tr>\n",
       "  </thead>\n",
       "  <tbody>\n",
       "    <tr>\n",
       "      <th>0</th>\n",
       "      <td>617.164997</td>\n",
       "      <td>0.0</td>\n",
       "      <td>137563.026557</td>\n",
       "      <td>2020-12-22</td>\n",
       "      <td>staked-ether</td>\n",
       "    </tr>\n",
       "    <tr>\n",
       "      <th>1</th>\n",
       "      <td>617.164997</td>\n",
       "      <td>0.0</td>\n",
       "      <td>137563.026557</td>\n",
       "      <td>2020-12-23</td>\n",
       "      <td>staked-ether</td>\n",
       "    </tr>\n",
       "  </tbody>\n",
       "</table>\n",
       "</div>"
      ],
      "text/plain": [
       "   price_value  market_cap_value   volume_value       date            id\n",
       "0   617.164997               0.0  137563.026557 2020-12-22  staked-ether\n",
       "1   617.164997               0.0  137563.026557 2020-12-23  staked-ether"
      ]
     },
     "execution_count": 50,
     "metadata": {},
     "output_type": "execute_result"
    }
   ],
   "source": [
    "h_staked_ether_df.head(2)"
   ]
  },
  {
   "cell_type": "code",
   "execution_count": 51,
   "metadata": {},
   "outputs": [
    {
     "data": {
      "text/html": [
       "<div>\n",
       "<style scoped>\n",
       "    .dataframe tbody tr th:only-of-type {\n",
       "        vertical-align: middle;\n",
       "    }\n",
       "\n",
       "    .dataframe tbody tr th {\n",
       "        vertical-align: top;\n",
       "    }\n",
       "\n",
       "    .dataframe thead th {\n",
       "        text-align: right;\n",
       "    }\n",
       "</style>\n",
       "<table border=\"1\" class=\"dataframe\">\n",
       "  <thead>\n",
       "    <tr style=\"text-align: right;\">\n",
       "      <th></th>\n",
       "      <th>price_value</th>\n",
       "      <th>market_cap_value</th>\n",
       "      <th>volume_value</th>\n",
       "      <th>date</th>\n",
       "      <th>id</th>\n",
       "    </tr>\n",
       "  </thead>\n",
       "  <tbody>\n",
       "    <tr>\n",
       "      <th>0</th>\n",
       "      <td>0.026845</td>\n",
       "      <td>6.960214e+08</td>\n",
       "      <td>2.351678e+06</td>\n",
       "      <td>2017-10-18</td>\n",
       "      <td>cardano</td>\n",
       "    </tr>\n",
       "    <tr>\n",
       "      <th>1</th>\n",
       "      <td>0.026830</td>\n",
       "      <td>6.956220e+08</td>\n",
       "      <td>2.815156e+06</td>\n",
       "      <td>2017-10-19</td>\n",
       "      <td>cardano</td>\n",
       "    </tr>\n",
       "  </tbody>\n",
       "</table>\n",
       "</div>"
      ],
      "text/plain": [
       "   price_value  market_cap_value  volume_value       date       id\n",
       "0     0.026845      6.960214e+08  2.351678e+06 2017-10-18  cardano\n",
       "1     0.026830      6.956220e+08  2.815156e+06 2017-10-19  cardano"
      ]
     },
     "execution_count": 51,
     "metadata": {},
     "output_type": "execute_result"
    }
   ],
   "source": [
    "h_cardano_df.head(2)"
   ]
  },
  {
   "cell_type": "code",
   "execution_count": 52,
   "metadata": {},
   "outputs": [
    {
     "data": {
      "text/html": [
       "<div>\n",
       "<style scoped>\n",
       "    .dataframe tbody tr th:only-of-type {\n",
       "        vertical-align: middle;\n",
       "    }\n",
       "\n",
       "    .dataframe tbody tr th {\n",
       "        vertical-align: top;\n",
       "    }\n",
       "\n",
       "    .dataframe thead th {\n",
       "        text-align: right;\n",
       "    }\n",
       "</style>\n",
       "<table border=\"1\" class=\"dataframe\">\n",
       "  <thead>\n",
       "    <tr style=\"text-align: right;\">\n",
       "      <th></th>\n",
       "      <th>price_value</th>\n",
       "      <th>market_cap_value</th>\n",
       "      <th>volume_value</th>\n",
       "      <th>date</th>\n",
       "      <th>id</th>\n",
       "    </tr>\n",
       "  </thead>\n",
       "  <tbody>\n",
       "    <tr>\n",
       "      <th>0</th>\n",
       "      <td>0.000221</td>\n",
       "      <td>2.373495e+07</td>\n",
       "      <td>87182.386056</td>\n",
       "      <td>2017-01-01</td>\n",
       "      <td>dogecoin</td>\n",
       "    </tr>\n",
       "    <tr>\n",
       "      <th>1</th>\n",
       "      <td>0.000221</td>\n",
       "      <td>2.381871e+07</td>\n",
       "      <td>122738.625239</td>\n",
       "      <td>2017-01-02</td>\n",
       "      <td>dogecoin</td>\n",
       "    </tr>\n",
       "  </tbody>\n",
       "</table>\n",
       "</div>"
      ],
      "text/plain": [
       "   price_value  market_cap_value   volume_value       date        id\n",
       "0     0.000221      2.373495e+07   87182.386056 2017-01-01  dogecoin\n",
       "1     0.000221      2.381871e+07  122738.625239 2017-01-02  dogecoin"
      ]
     },
     "execution_count": 52,
     "metadata": {},
     "output_type": "execute_result"
    }
   ],
   "source": [
    "h_dogecoin_df.head(2)"
   ]
  },
  {
   "cell_type": "code",
   "execution_count": 53,
   "metadata": {},
   "outputs": [
    {
     "data": {
      "text/html": [
       "<div>\n",
       "<style scoped>\n",
       "    .dataframe tbody tr th:only-of-type {\n",
       "        vertical-align: middle;\n",
       "    }\n",
       "\n",
       "    .dataframe tbody tr th {\n",
       "        vertical-align: top;\n",
       "    }\n",
       "\n",
       "    .dataframe thead th {\n",
       "        text-align: right;\n",
       "    }\n",
       "</style>\n",
       "<table border=\"1\" class=\"dataframe\">\n",
       "  <thead>\n",
       "    <tr style=\"text-align: right;\">\n",
       "      <th></th>\n",
       "      <th>price_value</th>\n",
       "      <th>market_cap_value</th>\n",
       "      <th>volume_value</th>\n",
       "      <th>date</th>\n",
       "      <th>id</th>\n",
       "    </tr>\n",
       "  </thead>\n",
       "  <tbody>\n",
       "    <tr>\n",
       "      <th>0</th>\n",
       "      <td>0.957606</td>\n",
       "      <td>7.827652e+06</td>\n",
       "      <td>9.267267e+07</td>\n",
       "      <td>2020-04-11</td>\n",
       "      <td>solana</td>\n",
       "    </tr>\n",
       "    <tr>\n",
       "      <th>1</th>\n",
       "      <td>0.784711</td>\n",
       "      <td>6.173608e+06</td>\n",
       "      <td>4.945869e+07</td>\n",
       "      <td>2020-04-12</td>\n",
       "      <td>solana</td>\n",
       "    </tr>\n",
       "  </tbody>\n",
       "</table>\n",
       "</div>"
      ],
      "text/plain": [
       "   price_value  market_cap_value  volume_value       date      id\n",
       "0     0.957606      7.827652e+06  9.267267e+07 2020-04-11  solana\n",
       "1     0.784711      6.173608e+06  4.945869e+07 2020-04-12  solana"
      ]
     },
     "execution_count": 53,
     "metadata": {},
     "output_type": "execute_result"
    }
   ],
   "source": [
    "h_solana_df.head(2)"
   ]
  },
  {
   "cell_type": "code",
   "execution_count": 54,
   "metadata": {},
   "outputs": [
    {
     "data": {
      "text/html": [
       "<div>\n",
       "<style scoped>\n",
       "    .dataframe tbody tr th:only-of-type {\n",
       "        vertical-align: middle;\n",
       "    }\n",
       "\n",
       "    .dataframe tbody tr th {\n",
       "        vertical-align: top;\n",
       "    }\n",
       "\n",
       "    .dataframe thead th {\n",
       "        text-align: right;\n",
       "    }\n",
       "</style>\n",
       "<table border=\"1\" class=\"dataframe\">\n",
       "  <thead>\n",
       "    <tr style=\"text-align: right;\">\n",
       "      <th></th>\n",
       "      <th>price_value</th>\n",
       "      <th>market_cap_value</th>\n",
       "      <th>volume_value</th>\n",
       "      <th>date</th>\n",
       "      <th>id</th>\n",
       "    </tr>\n",
       "  </thead>\n",
       "  <tbody>\n",
       "    <tr>\n",
       "      <th>0</th>\n",
       "      <td>0.002387</td>\n",
       "      <td>1.564042e+08</td>\n",
       "      <td>1.224287e+06</td>\n",
       "      <td>2017-11-09</td>\n",
       "      <td>tron</td>\n",
       "    </tr>\n",
       "    <tr>\n",
       "      <th>1</th>\n",
       "      <td>0.002044</td>\n",
       "      <td>1.339685e+08</td>\n",
       "      <td>9.904228e+05</td>\n",
       "      <td>2017-11-10</td>\n",
       "      <td>tron</td>\n",
       "    </tr>\n",
       "  </tbody>\n",
       "</table>\n",
       "</div>"
      ],
      "text/plain": [
       "   price_value  market_cap_value  volume_value       date    id\n",
       "0     0.002387      1.564042e+08  1.224287e+06 2017-11-09  tron\n",
       "1     0.002044      1.339685e+08  9.904228e+05 2017-11-10  tron"
      ]
     },
     "execution_count": 54,
     "metadata": {},
     "output_type": "execute_result"
    }
   ],
   "source": [
    "h_tron_df.head(2)"
   ]
  },
  {
   "cell_type": "code",
   "execution_count": 55,
   "metadata": {},
   "outputs": [
    {
     "data": {
      "text/html": [
       "<div>\n",
       "<style scoped>\n",
       "    .dataframe tbody tr th:only-of-type {\n",
       "        vertical-align: middle;\n",
       "    }\n",
       "\n",
       "    .dataframe tbody tr th {\n",
       "        vertical-align: top;\n",
       "    }\n",
       "\n",
       "    .dataframe thead th {\n",
       "        text-align: right;\n",
       "    }\n",
       "</style>\n",
       "<table border=\"1\" class=\"dataframe\">\n",
       "  <thead>\n",
       "    <tr style=\"text-align: right;\">\n",
       "      <th></th>\n",
       "      <th>price_value</th>\n",
       "      <th>market_cap_value</th>\n",
       "      <th>volume_value</th>\n",
       "      <th>date</th>\n",
       "      <th>id</th>\n",
       "    </tr>\n",
       "  </thead>\n",
       "  <tbody>\n",
       "    <tr>\n",
       "      <th>0</th>\n",
       "      <td>2.936665</td>\n",
       "      <td>0.0</td>\n",
       "      <td>8.241398e+07</td>\n",
       "      <td>2020-08-19</td>\n",
       "      <td>polkadot</td>\n",
       "    </tr>\n",
       "    <tr>\n",
       "      <th>1</th>\n",
       "      <td>2.936665</td>\n",
       "      <td>0.0</td>\n",
       "      <td>8.241398e+07</td>\n",
       "      <td>2020-08-20</td>\n",
       "      <td>polkadot</td>\n",
       "    </tr>\n",
       "  </tbody>\n",
       "</table>\n",
       "</div>"
      ],
      "text/plain": [
       "   price_value  market_cap_value  volume_value       date        id\n",
       "0     2.936665               0.0  8.241398e+07 2020-08-19  polkadot\n",
       "1     2.936665               0.0  8.241398e+07 2020-08-20  polkadot"
      ]
     },
     "execution_count": 55,
     "metadata": {},
     "output_type": "execute_result"
    }
   ],
   "source": [
    "h_polkadot_df.head(2)"
   ]
  },
  {
   "cell_type": "code",
   "execution_count": 56,
   "metadata": {},
   "outputs": [
    {
     "data": {
      "text/html": [
       "<div>\n",
       "<style scoped>\n",
       "    .dataframe tbody tr th:only-of-type {\n",
       "        vertical-align: middle;\n",
       "    }\n",
       "\n",
       "    .dataframe tbody tr th {\n",
       "        vertical-align: top;\n",
       "    }\n",
       "\n",
       "    .dataframe thead th {\n",
       "        text-align: right;\n",
       "    }\n",
       "</style>\n",
       "<table border=\"1\" class=\"dataframe\">\n",
       "  <thead>\n",
       "    <tr style=\"text-align: right;\">\n",
       "      <th></th>\n",
       "      <th>price_value</th>\n",
       "      <th>market_cap_value</th>\n",
       "      <th>volume_value</th>\n",
       "      <th>date</th>\n",
       "      <th>id</th>\n",
       "    </tr>\n",
       "  </thead>\n",
       "  <tbody>\n",
       "    <tr>\n",
       "      <th>0</th>\n",
       "      <td>0.005470</td>\n",
       "      <td>1.159800e+07</td>\n",
       "      <td>4.315835e+07</td>\n",
       "      <td>2019-04-27</td>\n",
       "      <td>matic-network</td>\n",
       "    </tr>\n",
       "    <tr>\n",
       "      <th>1</th>\n",
       "      <td>0.005207</td>\n",
       "      <td>1.103852e+07</td>\n",
       "      <td>9.750768e+06</td>\n",
       "      <td>2019-04-28</td>\n",
       "      <td>matic-network</td>\n",
       "    </tr>\n",
       "  </tbody>\n",
       "</table>\n",
       "</div>"
      ],
      "text/plain": [
       "   price_value  market_cap_value  volume_value       date             id\n",
       "0     0.005470      1.159800e+07  4.315835e+07 2019-04-27  matic-network\n",
       "1     0.005207      1.103852e+07  9.750768e+06 2019-04-28  matic-network"
      ]
     },
     "execution_count": 56,
     "metadata": {},
     "output_type": "execute_result"
    }
   ],
   "source": [
    "h_matic_network_df.head(2)"
   ]
  },
  {
   "cell_type": "code",
   "execution_count": 57,
   "metadata": {},
   "outputs": [
    {
     "data": {
      "text/html": [
       "<div>\n",
       "<style scoped>\n",
       "    .dataframe tbody tr th:only-of-type {\n",
       "        vertical-align: middle;\n",
       "    }\n",
       "\n",
       "    .dataframe tbody tr th {\n",
       "        vertical-align: top;\n",
       "    }\n",
       "\n",
       "    .dataframe thead th {\n",
       "        text-align: right;\n",
       "    }\n",
       "</style>\n",
       "<table border=\"1\" class=\"dataframe\">\n",
       "  <thead>\n",
       "    <tr style=\"text-align: right;\">\n",
       "      <th></th>\n",
       "      <th>price_value</th>\n",
       "      <th>market_cap_value</th>\n",
       "      <th>volume_value</th>\n",
       "      <th>date</th>\n",
       "      <th>id</th>\n",
       "    </tr>\n",
       "  </thead>\n",
       "  <tbody>\n",
       "    <tr>\n",
       "      <th>0</th>\n",
       "      <td>9.722410e-10</td>\n",
       "      <td>0.0</td>\n",
       "      <td>1.426169e+06</td>\n",
       "      <td>2020-08-01</td>\n",
       "      <td>shiba-inu</td>\n",
       "    </tr>\n",
       "    <tr>\n",
       "      <th>1</th>\n",
       "      <td>9.722410e-10</td>\n",
       "      <td>0.0</td>\n",
       "      <td>1.426169e+06</td>\n",
       "      <td>2020-08-02</td>\n",
       "      <td>shiba-inu</td>\n",
       "    </tr>\n",
       "  </tbody>\n",
       "</table>\n",
       "</div>"
      ],
      "text/plain": [
       "    price_value  market_cap_value  volume_value       date         id\n",
       "0  9.722410e-10               0.0  1.426169e+06 2020-08-01  shiba-inu\n",
       "1  9.722410e-10               0.0  1.426169e+06 2020-08-02  shiba-inu"
      ]
     },
     "execution_count": 57,
     "metadata": {},
     "output_type": "execute_result"
    }
   ],
   "source": [
    "h_shiba_inu_df.head(2)"
   ]
  },
  {
   "cell_type": "code",
   "execution_count": 58,
   "metadata": {},
   "outputs": [
    {
     "data": {
      "text/html": [
       "<div>\n",
       "<style scoped>\n",
       "    .dataframe tbody tr th:only-of-type {\n",
       "        vertical-align: middle;\n",
       "    }\n",
       "\n",
       "    .dataframe tbody tr th {\n",
       "        vertical-align: top;\n",
       "    }\n",
       "\n",
       "    .dataframe thead th {\n",
       "        text-align: right;\n",
       "    }\n",
       "</style>\n",
       "<table border=\"1\" class=\"dataframe\">\n",
       "  <thead>\n",
       "    <tr style=\"text-align: right;\">\n",
       "      <th></th>\n",
       "      <th>price_value</th>\n",
       "      <th>market_cap_value</th>\n",
       "      <th>volume_value</th>\n",
       "      <th>date</th>\n",
       "      <th>id</th>\n",
       "    </tr>\n",
       "  </thead>\n",
       "  <tbody>\n",
       "    <tr>\n",
       "      <th>0</th>\n",
       "      <td>4.503139</td>\n",
       "      <td>2.213023e+08</td>\n",
       "      <td>4.275411e+08</td>\n",
       "      <td>2017-01-01</td>\n",
       "      <td>litecoin</td>\n",
       "    </tr>\n",
       "    <tr>\n",
       "      <th>1</th>\n",
       "      <td>4.580077</td>\n",
       "      <td>2.251494e+08</td>\n",
       "      <td>5.937161e+08</td>\n",
       "      <td>2017-01-02</td>\n",
       "      <td>litecoin</td>\n",
       "    </tr>\n",
       "  </tbody>\n",
       "</table>\n",
       "</div>"
      ],
      "text/plain": [
       "   price_value  market_cap_value  volume_value       date        id\n",
       "0     4.503139      2.213023e+08  4.275411e+08 2017-01-01  litecoin\n",
       "1     4.580077      2.251494e+08  5.937161e+08 2017-01-02  litecoin"
      ]
     },
     "execution_count": 58,
     "metadata": {},
     "output_type": "execute_result"
    }
   ],
   "source": [
    "h_litecoin_df.head(2)"
   ]
  },
  {
   "cell_type": "markdown",
   "metadata": {},
   "source": [
    "15. Convertimos los dataframes en formato csv."
   ]
  },
  {
   "cell_type": "code",
   "execution_count": 59,
   "metadata": {},
   "outputs": [],
   "source": [
    "h_bitcoin_df.to_csv('bitcoin.csv')\n",
    "h_ethereum_df.to_csv('ethereum.csv')\n",
    "h_tether_df.to_csv('thether.csv')\n",
    "h_binancecoin_df.to_csv('binancecoin.csv')\n",
    "h_ripple_df.to_csv('ripple.csv')\n",
    "h_usd_coin_df.to_csv('usd_coin.csv')\n",
    "h_staked_ether_df.to_csv('staked_ether.csv')\n",
    "h_cardano_df.to_csv('cardano.csv')\n",
    "h_dogecoin_df.to_csv('dogecoin.csv')\n",
    "h_solana_df.to_csv('solana.csv')\n",
    "h_tron_df.to_csv('tron.csv')\n",
    "h_polkadot_df.to_csv('polkadot.csv')\n",
    "h_matic_network_df.to_csv('matic_network.csv')\n",
    "h_shiba_inu_df.to_csv('shiba_inu.csv')\n",
    "h_litecoin_df.to_csv('litecoin.csv')\n",
    "all_coins_market_df.to_csv('monedas_todas.csv')"
   ]
  },
  {
   "cell_type": "markdown",
   "metadata": {},
   "source": [
    "16.Creamos una lista con todos los dataframes"
   ]
  },
  {
   "cell_type": "code",
   "execution_count": 60,
   "metadata": {},
   "outputs": [],
   "source": [
    "list_df=[h_bitcoin_df,h_ethereum_df,h_tether_df, h_binancecoin_df,h_ripple_df,h_usd_coin_df, h_staked_ether_df, h_cardano_df, h_dogecoin_df, h_solana_df,\n",
    "         h_tron_df, h_polkadot_df, h_matic_network_df, h_shiba_inu_df, h_litecoin_df ]"
   ]
  },
  {
   "cell_type": "markdown",
   "metadata": {},
   "source": [
    "17. Concatenamos los dataframes para obtener solo un dataframe con las 5 columnas que necesitamos"
   ]
  },
  {
   "cell_type": "code",
   "execution_count": 61,
   "metadata": {},
   "outputs": [],
   "source": [
    "combinaded_df=pd.concat(list_df)\n",
    "combinaded_df.reset_index(drop=True, inplace=True)"
   ]
  },
  {
   "cell_type": "markdown",
   "metadata": {},
   "source": [
    "18. Revisamos el dataframe creado"
   ]
  },
  {
   "cell_type": "code",
   "execution_count": 62,
   "metadata": {},
   "outputs": [
    {
     "data": {
      "text/html": [
       "<div>\n",
       "<style scoped>\n",
       "    .dataframe tbody tr th:only-of-type {\n",
       "        vertical-align: middle;\n",
       "    }\n",
       "\n",
       "    .dataframe tbody tr th {\n",
       "        vertical-align: top;\n",
       "    }\n",
       "\n",
       "    .dataframe thead th {\n",
       "        text-align: right;\n",
       "    }\n",
       "</style>\n",
       "<table border=\"1\" class=\"dataframe\">\n",
       "  <thead>\n",
       "    <tr style=\"text-align: right;\">\n",
       "      <th></th>\n",
       "      <th>price_value</th>\n",
       "      <th>market_cap_value</th>\n",
       "      <th>volume_value</th>\n",
       "      <th>date</th>\n",
       "      <th>id</th>\n",
       "    </tr>\n",
       "  </thead>\n",
       "  <tbody>\n",
       "    <tr>\n",
       "      <th>2729</th>\n",
       "      <td>11495.899976</td>\n",
       "      <td>2.173911e+11</td>\n",
       "      <td>1.556979e+10</td>\n",
       "      <td>2020-10-19</td>\n",
       "      <td>bitcoin</td>\n",
       "    </tr>\n",
       "    <tr>\n",
       "      <th>6127</th>\n",
       "      <td>1899.147312</td>\n",
       "      <td>2.230613e+11</td>\n",
       "      <td>7.363880e+09</td>\n",
       "      <td>2023-06-26</td>\n",
       "      <td>ethereum</td>\n",
       "    </tr>\n",
       "    <tr>\n",
       "      <th>1730</th>\n",
       "      <td>11277.115970</td>\n",
       "      <td>1.888805e+11</td>\n",
       "      <td>3.582338e+09</td>\n",
       "      <td>2018-01-24</td>\n",
       "      <td>bitcoin</td>\n",
       "    </tr>\n",
       "    <tr>\n",
       "      <th>28693</th>\n",
       "      <td>70.810687</td>\n",
       "      <td>4.466674e+09</td>\n",
       "      <td>4.593116e+09</td>\n",
       "      <td>2020-02-20</td>\n",
       "      <td>litecoin</td>\n",
       "    </tr>\n",
       "    <tr>\n",
       "      <th>5254</th>\n",
       "      <td>1514.225196</td>\n",
       "      <td>1.890238e+11</td>\n",
       "      <td>4.295241e+10</td>\n",
       "      <td>2021-02-03</td>\n",
       "      <td>ethereum</td>\n",
       "    </tr>\n",
       "  </tbody>\n",
       "</table>\n",
       "</div>"
      ],
      "text/plain": [
       "        price_value  market_cap_value  volume_value       date        id\n",
       "2729   11495.899976      2.173911e+11  1.556979e+10 2020-10-19   bitcoin\n",
       "6127    1899.147312      2.230613e+11  7.363880e+09 2023-06-26  ethereum\n",
       "1730   11277.115970      1.888805e+11  3.582338e+09 2018-01-24   bitcoin\n",
       "28693     70.810687      4.466674e+09  4.593116e+09 2020-02-20  litecoin\n",
       "5254    1514.225196      1.890238e+11  4.295241e+10 2021-02-03  ethereum"
      ]
     },
     "execution_count": 62,
     "metadata": {},
     "output_type": "execute_result"
    }
   ],
   "source": [
    "combinaded_df.sample(5)"
   ]
  },
  {
   "cell_type": "markdown",
   "metadata": {},
   "source": [
    "19. Convertimos el dataframe en formato csv"
   ]
  },
  {
   "cell_type": "code",
   "execution_count": 63,
   "metadata": {},
   "outputs": [],
   "source": [
    "combinaded_df.to_csv('coins_combined.csv')"
   ]
  }
 ],
 "metadata": {
  "kernelspec": {
   "display_name": "Python 3",
   "language": "python",
   "name": "python3"
  },
  "language_info": {
   "codemirror_mode": {
    "name": "ipython",
    "version": 3
   },
   "file_extension": ".py",
   "mimetype": "text/x-python",
   "name": "python",
   "nbconvert_exporter": "python",
   "pygments_lexer": "ipython3",
   "version": "3.10.11"
  },
  "orig_nbformat": 4
 },
 "nbformat": 4,
 "nbformat_minor": 2
}
